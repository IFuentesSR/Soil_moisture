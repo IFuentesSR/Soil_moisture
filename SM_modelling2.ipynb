{
  "nbformat": 4,
  "nbformat_minor": 0,
  "metadata": {
    "colab": {
      "name": "Copy of soilMoisture_depth_model.ipynb",
      "provenance": [],
      "collapsed_sections": [],
      "authorship_tag": "ABX9TyPzsbY1sgM/OMdN0VGr+C8b",
      "include_colab_link": true
    },
    "kernelspec": {
      "display_name": "Python 3",
      "name": "python3"
    },
    "language_info": {
      "name": "python"
    }
  },
  "cells": [
    {
      "cell_type": "markdown",
      "metadata": {
        "id": "view-in-github",
        "colab_type": "text"
      },
      "source": [
        "<a href=\"https://colab.research.google.com/github/IFuentesSR/Soil_moisture/blob/main/SM_modelling2.ipynb\" target=\"_parent\"><img src=\"https://colab.research.google.com/assets/colab-badge.svg\" alt=\"Open In Colab\"/></a>"
      ]
    },
    {
      "cell_type": "markdown",
      "metadata": {
        "id": "qnUQ4TB04AhO"
      },
      "source": [
        "To obtain access to the datasets used in this work you need to follow the following steps:\n",
        "* Click on [this](https://drive.google.com/drive/u/1/folders/12cYWIfg_0wATfxxtnnhQfLHrghqazwj6) Google Drive folder link. \n",
        "\n",
        "* Then, right click on the **SoilMoisture** folder and select **Add shortcut to Drive**.\n",
        "\n",
        "![picture](https://drive.google.com/uc?id=1lZqtmeemmmCM7OZUj_kiqDMMvgGS375a)\n",
        "\n",
        "* Make a shortcut of the **SoilMoisture** folder in your own **My Drive**-folder, by clicking on **Add shortcut**. \n",
        "\n",
        "![picture](https://drive.google.com/uc?id=133aXjO2jrfMSj9lzK2aZNq69L6wEiKCH)\n",
        "\n",
        "A new Google Drive folder with all the contents of this study has been linked to your Google Drive; therefore, we can link our Google Drive account to have access to the data."
      ]
    },
    {
      "cell_type": "markdown",
      "metadata": {
        "id": "jvWODIkn4Avw"
      },
      "source": [
        "# Loading libraries\n"
      ]
    },
    {
      "cell_type": "code",
      "metadata": {
        "id": "u0VkptYL4MQG"
      },
      "source": [
        "import os\n",
        "import numpy as np\n",
        "import pickle\n",
        "import pandas as pd\n",
        "import tensorflow as tf\n",
        "import tensorflow_probability as tfp\n",
        "from keras import backend as K\n",
        "from sklearn.preprocessing import OneHotEncoder\n",
        "from tensorflow.keras.layers import Dense, Input, LSTM, Concatenate, Reshape, Lambda, Permute, GRU, SimpleRNN, LayerNormalization, Bidirectional\n",
        "from tensorflow.keras.activations import relu\n",
        "from tensorflow.keras.models import Model\n",
        "from tensorflow.keras.optimizers import Adam\n",
        "from keras.callbacks import LearningRateScheduler\n",
        "from tqdm.keras import TqdmCallback\n",
        "from scipy import stats\n",
        "import matplotlib.pyplot as plt\n",
        "\n",
        "enc2 = OneHotEncoder(handle_unknown='ignore')"
      ],
      "execution_count": 1,
      "outputs": []
    },
    {
      "cell_type": "markdown",
      "source": [
        "## Connecting to drive"
      ],
      "metadata": {
        "id": "wpG6v68msN3Q"
      }
    },
    {
      "cell_type": "code",
      "source": [
        "from google.colab import drive\n",
        "drive.mount('/content/drive')"
      ],
      "metadata": {
        "colab": {
          "base_uri": "https://localhost:8080/"
        },
        "id": "Z5iPHRbXoh67",
        "outputId": "0eef3f8c-7825-475b-9a97-d438df0780b2"
      },
      "execution_count": 2,
      "outputs": [
        {
          "output_type": "stream",
          "name": "stdout",
          "text": [
            "Mounted at /content/drive\n"
          ]
        }
      ]
    },
    {
      "cell_type": "markdown",
      "source": [
        "## Functions for pre-processing data and modelling"
      ],
      "metadata": {
        "id": "aSBLFMD4j0ct"
      }
    },
    {
      "cell_type": "code",
      "metadata": {
        "id": "kvlxubFb448N"
      },
      "source": [
        "def append_sm2(dataframe, tuple_station):\n",
        "    '''\n",
        "    Description: Appends reference soil moistures to predictors dataframe\n",
        "    Inputs: \n",
        "        dataframe: pandas dataframe\n",
        "        tuple_station: tuple with path to files and name of reference files\n",
        "    Outputs:\n",
        "        df: pandas dataframe\n",
        "    '''\n",
        "    test = pd.read_csv(tuple_station[0], encoding='latin1')\n",
        "    cols = test.columns\n",
        "    test['dates'] = pd.to_datetime(test[cols[0]],\n",
        "                                    format='%Y-%m-%d %H:%M:%S')\n",
        "    test = test.set_index('dates')\n",
        "    test.rename(columns={\"0-10\": \"sm\", \"0-30\": \"sm1\", \"30-60\": \"sm2\"}, inplace=True)\n",
        "    resampled = test.resample('D').mean()\n",
        "    resampled['sm'], resampled['sm1'], resampled['sm2'] = resampled['sm']/100, resampled['sm1']/100, resampled['sm2']/100\n",
        "    df_sampled = dataframe[dataframe['id'].str.lower() == tuple_station[1][6:-4].lower()]\n",
        "    df_sampledx = df_sampled.copy()\n",
        "    df_sampledx['soilM'], df_sampledx['soilM1'], df_sampledx['soilM2']  = resampled['sm'], resampled['sm1'], resampled['sm2']\n",
        "    df_sampledx[(df_sampledx['soilM'] < 0.0) | (df_sampledx['soilM'] > 1)] = np.nan\n",
        "    df_sampledx[(df_sampledx['soilM1'] < 0.0) | (df_sampledx['soilM1'] > 1)] = np.nan\n",
        "    df_sampledx[(df_sampledx['soilM2'] < 0.0) | (df_sampledx['soilM2'] > 1)] = np.nan\n",
        "    df_sampledx[~df_sampledx.index.duplicated(keep='first')]\n",
        "    df_sampledx = df_sampledx.dropna(subset=['id', 'soilM1', 'soilM2'])\n",
        "    df_sampledx = df_sampledx.sort_index()\n",
        "    return df_sampledx\n",
        "\n",
        "\n",
        "def ccc(y_true, x_true):\n",
        "    '''\n",
        "    Description: Creates ccc loss function for tf model\n",
        "    Inputs: \n",
        "        y_true: predictions\n",
        "        x_true: observations\n",
        "    Outputs:\n",
        "        ccc loss function\n",
        "    '''\n",
        "    uy, ux = K.mean(y_true), K.mean(x_true)\n",
        "    sxy = tfp.stats.covariance(y_true, x_true)\n",
        "    sy, sx = tfp.stats.variance(y_true), tfp.stats.variance(x_true)\n",
        "    E = 2*sxy/(sy+sx+K.pow(uy-ux, 2))\n",
        "    return 1-E\n",
        "\n",
        "\n",
        "def crop(dimension, start, end):\n",
        "    '''\n",
        "    Description: Crops (or slices) a Tensor on a given dimension from start to end\n",
        "    Inputs: \n",
        "        start: integer\n",
        "        end: integger\n",
        "        dimension: integer with dimensions\n",
        "    Outputs:\n",
        "        lambda function\n",
        "    '''\n",
        "    def func(x):\n",
        "        if dimension == 0:\n",
        "            return x[start: end]\n",
        "        if dimension == 1:\n",
        "            return x[:, start: end]\n",
        "        if dimension == 2:\n",
        "            return x[:, :, start: end]\n",
        "        if dimension == 3:\n",
        "            return x[:, :, :, start: end]\n",
        "        if dimension == 4:\n",
        "            return x[:, :, :, :, start: end]\n",
        "    return Lambda(func)\n",
        "\n",
        "\n",
        "def mlp2(inputs, lr, decay, epsilon):\n",
        "    '''\n",
        "    Description: Creates a MLP tf model\n",
        "    Inputs: \n",
        "        inputs: list of inputs\n",
        "    Outputs:\n",
        "        tf model\n",
        "    '''\n",
        "    input = Input(shape=(len(inputs)), dtype='float32')\n",
        "    hidden3 = Dense(100, activation='relu')(input)\n",
        "    hidden4 = Dense(100, activation='relu')(hidden3)\n",
        "    hidden5 = Dense(100, activation='relu')(hidden4)\n",
        "    hidden6 = Dense(50, activation='relu')(hidden5)\n",
        "    hidden7 = Dense(25, activation='relu')(hidden6)\n",
        "    mlp_out = Dense(2, activation=lambda x: relu(x, max_value=1.0))(hidden7)\n",
        "\n",
        "    model = Model(inputs=input, outputs=mlp_out)\n",
        "    model.compile(loss=ccc, optimizer=Adam(learning_rate=lr, beta_1=0.9, beta_2=0.999, epsilon=epsilon, decay=decay))#0.00003\n",
        "    return model\n",
        "\n",
        "\n",
        "def modlx(inputs, lr, decay, epsilon):\n",
        "    '''\n",
        "    Description: Creates a combined LSTM and MLP tf model\n",
        "    Inputs: \n",
        "        inputs: list of inputs\n",
        "        lr: float of learning rate\n",
        "        decay: float of decay\n",
        "        epsilon: float for epsilon\n",
        "    Outputs:\n",
        "        model: tf model\n",
        "    '''\n",
        "    input = Input(shape=(len(inputs), 1), dtype='float32')\n",
        "    slice1 = crop(1, 0, int(len(lstm_cols)))(input)\n",
        "    reshaped = Reshape((3, int(len(lstm_cols)/3)), input_shape=(int(len(lstm_cols)), 1))(slice1)\n",
        "    lstm_input = Permute((2, 1), input_shape=(3, int(len(lstm_cols)/3)))(reshaped)\n",
        "    hidden1 = Bidirectional(LSTM(50, activation='relu'))(lstm_input)\n",
        "    hidden1 = LayerNormalization()(hidden1)\n",
        "    lstm_output = Dense(100, activation='relu')(hidden1)\n",
        "    slice2 = crop(1, int(len(lstm_cols)), len(var_in))(input)\n",
        "    slice2 = Reshape((len(var_in) - int(len(lstm_cols)), ),\n",
        "                     input_shape=(len(var_in) - int(len(lstm_cols)), ))(slice2)\n",
        "    x = Concatenate()([lstm_output, slice2])\n",
        "    hidden3 = Dense(128, activation='relu')(x)\n",
        "    hidden4 = Dense(64, activation='relu')(hidden3)\n",
        "    hidden5 = Dense(32, activation='relu')(hidden4)\n",
        "    hidden6 = Dense(16, activation='relu')(hidden5)\n",
        "    mlp_out = Dense(2, activation=lambda x: relu(x, max_value=1.0))(hidden6)\n",
        "    model = Model(inputs=input, outputs=mlp_out)\n",
        "    model.compile(loss=ccc, optimizer=Adam(learning_rate=lr, beta_1=0.9, beta_2=0.999, epsilon=epsilon, decay=decay))\n",
        "    return model\n",
        "\n",
        "\n",
        "def leave_one_out2(probe, dataframe, inputs, model, lr, decay, batch_size, epsilon, random=1):\n",
        "    '''\n",
        "    Description: Returns trained tf model with leave one out cross validation\n",
        "    Inputs: \n",
        "        probe: string of station left out\n",
        "        dataframe: predictors dataframe\n",
        "        inputs: list of inputs\n",
        "        model: tf model\n",
        "        lr: float of learning rate\n",
        "        decay: float of decay\n",
        "        epsilon: float for epsilon\n",
        "        random: integer for random state\n",
        "    Outputs:\n",
        "        mdl: trained tf model\n",
        "        here: dictionary with history of training\n",
        "        DFvali: pd dataframe subset for validation based on probe\n",
        "    '''\n",
        "    DFs = dataframe.copy()\n",
        "    DFs = DFs.dropna(how='any')\n",
        "    DFs = DFs.sample(frac=1, random_state=random)\n",
        "    DFs1 = DFs[inputs]\n",
        "    DFs1 = DFs1.apply(lambda x: (x - x.min())/(x.max() - x.min()))\n",
        "    DFs1['soilM1'], DFs1['soilM2'], DFs1['date'], DFs1['id'] = DFs['soilM1'], DFs['soilM2'], DFs['date'], DFs['id']\n",
        "    DFtrain = DFs1[DFs1['id'] != probe]\n",
        "    DFvali = DFs1[DFs1['id'] == probe]\n",
        "    tr_in = DFtrain[inputs].values.reshape((DFtrain[inputs].shape[0],\n",
        "                                            DFtrain[inputs].shape[1],\n",
        "                                            1))\n",
        "    tr_out = DFtrain[['soilM1', 'soilM2']].values\n",
        "    tr_in, tr_out = tr_in.astype('float32'), tr_out.astype('float32')\n",
        "    va_in = DFvali[inputs].values.reshape((DFvali[inputs].shape[0],\n",
        "                                           DFvali[inputs].shape[1],\n",
        "                                           1))\n",
        "    va_out = DFvali[['soilM1', 'soilM2']].values\n",
        "    va_in, va_out = va_in.astype('float32'), va_out.astype('float32')\n",
        "    mdl = model(inputs, lr, decay, epsilon)\n",
        "    callback = tf.keras.callbacks.EarlyStopping(monitor='val_loss', patience=5)\n",
        "    here = mdl.fit(tr_in.reshape((tr_in.shape[0], tr_in.shape[1])),\n",
        "                   tr_out,\n",
        "                   epochs=150,\n",
        "                   verbose=2,\n",
        "                   batch_size=batch_size,\n",
        "                   validation_data=(va_in.reshape((va_in.shape[0], va_in.shape[1])), va_out),\n",
        "                   callbacks=[callback])\n",
        "    val = mdl.evaluate(va_in, va_out)\n",
        "    return mdl, here, DFvali, val\n",
        "\n",
        "\n",
        "def add_predictions3(df, model, inputs):\n",
        "    '''\n",
        "    Description: Adds prediction columns to dataframe\n",
        "    Inputs: \n",
        "        df: pandas dataframe\n",
        "        model: tf model\n",
        "        inputs: list of predictors\n",
        "    Outputs:\n",
        "        df: pandas dataframe\n",
        "    '''\n",
        "    predictions = model.predict(df[inputs].values)\n",
        "    df['pred1'], df['pred2'] = predictions[:, 0], predictions[:, 1]\n",
        "    return df\n",
        "\n",
        "\n",
        "def plot_series(station):\n",
        "    '''\n",
        "    Description: Creates time series plot for stations\n",
        "    Inputs: \n",
        "        station: string\n",
        "        column: observation number\n",
        "    Outputs:\n",
        "        matplotlib plot\n",
        "    '''\n",
        "    data_ref = [n for n in stations2 if n[1][6:-4] == station]\n",
        "    check = pd.read_csv(data_ref[0][0])\n",
        "    cols = check.columns\n",
        "    if 'oznet' in data_ref[0][0]:\n",
        "        check = check.set_index(pd.to_datetime(check['dates'], format='%Y-%m-%d %H:%M:%S'))\n",
        "    else:\n",
        "        check = check.set_index(pd.to_datetime(check['Unnamed: 0'], format='%Y-%m-%d %H:%M:%S'))\n",
        "    check['sm1'] = check[cols[2]].astype(float)\n",
        "    check['sm2'] = check[cols[3]].astype(float)\n",
        "    check = check.resample('D').mean()\n",
        "    check[(check['sm1']<0) | (check['sm1']>100)] = np.nan\n",
        "    check[(check['sm2']<0) | (check['sm2']>100)] = np.nan\n",
        "    check['sm1'], check['sm2'] = check['sm1']/100, check['sm2']/100\n",
        "    check = check[(check.index > '2016-01-01')]\n",
        "    plt.plot(check.index, check['sm1'], color='orange')\n",
        "    plt.plot(check.index, check['sm2'], color='blue')\n",
        "\n",
        "\n",
        "def plot_hist(data):\n",
        "    '''\n",
        "    Description: Creates learning curve figure \n",
        "    Inputs: \n",
        "        data: dictionary with loss history\n",
        "    Outputs:\n",
        "        learning curve matplotlib plot \n",
        "    '''\n",
        "    fig, ax = plt.subplots()\n",
        "    ax.plot(range(len(data.history['loss'])), data.history['loss'], label='train')\n",
        "    ax.plot(range(len(data.history['loss'])), data.history['val_loss'], label='validation')\n",
        "    fig.legend()\n",
        "    fig.show()"
      ],
      "execution_count": 107,
      "outputs": []
    },
    {
      "cell_type": "markdown",
      "source": [
        "## Toy example"
      ],
      "metadata": {
        "id": "xWe5Nt01kTeL"
      }
    },
    {
      "cell_type": "markdown",
      "source": [
        "### Connecting to reference data and setting paths"
      ],
      "metadata": {
        "id": "ZCZZlLHUsO_-"
      }
    },
    {
      "cell_type": "code",
      "metadata": {
        "id": "NtcJol_34h5Y"
      },
      "source": [
        "df = pd.read_csv('drive/MyDrive/SoilMoisture/soil_moist_inputs.csv')\n",
        "df.drop(['.geo'], inplace=True, axis=1)\n",
        "df.set_index(pd.to_datetime(df['date'], format='%Y-%m-%d'), inplace=True)\n",
        "df.dropna(how='any', inplace=True)\n",
        "\n",
        "Oznet_path = 'drive/MyDrive/SoilMoisture/oznet'\n",
        "OzFlux_path = 'drive/MyDrive/SoilMoisture/ozflux'"
      ],
      "execution_count": 3,
      "outputs": []
    },
    {
      "cell_type": "markdown",
      "source": [
        "### Setting covariate and prediction names"
      ],
      "metadata": {
        "id": "rkekQljSsbD_"
      }
    },
    {
      "cell_type": "code",
      "metadata": {
        "id": "mNZP8g4b4i0K"
      },
      "source": [
        "ixs = range(1, 11)\n",
        "smap_cols = ['smap{}'.format(str(n)) for n in ixs]\n",
        "ssmap_cols = ['ssmap{}'.format(str(n)) for n in ixs]\n",
        "chirps_cols = ['chirps{}'.format(str(n)) for n in ixs]\n",
        "\n",
        "lstm_cols = smap_cols+chirps_cols+ssmap_cols\n",
        "\n",
        "mlp_cols = ['VV', 'rSSM',\n",
        "            'AWC1', 'AWC2', 'AWC3', 'AWC4',\n",
        "            'CLY1', 'CLY2', 'CLY3', 'CLY4',\n",
        "            'SOC1', 'SOC2', 'SOC3', 'SOC4',\n",
        "            'LST_Day_1km', 'LST_Night_1km',\n",
        "            'sur_refl_b01', 'sur_refl_b02', 'sur_refl_b03',\n",
        "            'sur_refl_b04', 'sur_refl_b05', 'sur_refl_b06', 'sur_refl_b07',\n",
        "            'NDVI', 'irri', 'past', 'agri', 'fore', 'sava'] \n",
        "\n",
        "var_in = lstm_cols + mlp_cols\n",
        "var = var_in.copy()\n",
        "var_y = 'soilM'\n",
        "var.append(var_y)"
      ],
      "execution_count": 4,
      "outputs": []
    },
    {
      "cell_type": "markdown",
      "source": [
        "### Loading predictors"
      ],
      "metadata": {
        "id": "T3vgXgS_lVFa"
      }
    },
    {
      "cell_type": "code",
      "source": [
        "oznet_data2 = [(os.path.join(Oznet_path, n), n) for n in os.listdir(Oznet_path) if n.startswith('comp3_')]\n",
        "ozflux_data2 = [(os.path.join(OzFlux_path, n), n) for n in os.listdir(OzFlux_path) if n.startswith('comp3_')]\n",
        "stations2 = oznet_data2 + ozflux_data2\n",
        "dfx = [append_sm2(df, n) for n in stations2]"
      ],
      "metadata": {
        "id": "WnJATltIk854"
      },
      "execution_count": 8,
      "outputs": []
    },
    {
      "cell_type": "markdown",
      "source": [
        "### Setting predictors dataframe (land use to one hot encode)"
      ],
      "metadata": {
        "id": "U3ns2S4slqDK"
      }
    },
    {
      "cell_type": "code",
      "metadata": {
        "id": "j8mq64-o5mY7"
      },
      "source": [
        "DF2 = pd.concat(dfx)\n",
        "DF2.drop('date', axis=1, inplace=True)\n",
        "DF2 = DF2.reset_index()\n",
        "DF2['id'].unique()\n",
        "DF2.loc[(DF2['LU'] == 7), 'LU'] = 2\n",
        "DF2.loc[(DF2['LU'] == 11), 'LU'] = 1  # changed wetland to pasture\n",
        "DF2.loc[(DF2['LU'] == 9), 'LU'] = 10  #shrubland (1) to savanna\n",
        "enc_df2 = pd.DataFrame(enc2.fit_transform(DF2[['LU']]).toarray())\n",
        "enc_df2.rename(columns={0: 'irri', 1: 'past', 2: 'agri', 3: 'fore', 4: 'sava'}, inplace=True)\n",
        "DF2 = DF2.join(enc_df2)\n",
        "DF2.dropna(subset=['soilM1', 'soilM2'], inplace=True)\n",
        "statio2 = DF2['id'].unique()"
      ],
      "execution_count": 11,
      "outputs": []
    },
    {
      "cell_type": "markdown",
      "source": [
        "### Running one model test"
      ],
      "metadata": {
        "id": "3Y_9ojoGmSg8"
      }
    },
    {
      "cell_type": "code",
      "source": [
        "model, test, DFvali, val = leave_one_out2(statio2[30], DF2, var_in, modlx, 0.003, .8, 100, 1e-08)"
      ],
      "metadata": {
        "colab": {
          "base_uri": "https://localhost:8080/"
        },
        "id": "KTTAnWd_mQ6r",
        "outputId": "99edeeee-f3b0-4b3f-94de-127932abbdc7"
      },
      "execution_count": 76,
      "outputs": [
        {
          "output_type": "stream",
          "name": "stdout",
          "text": [
            "Epoch 1/150\n",
            "35/35 - 4s - loss: 0.2430 - val_loss: 0.3648 - 4s/epoch - 128ms/step\n",
            "Epoch 2/150\n",
            "35/35 - 1s - loss: 0.1270 - val_loss: 0.3325 - 601ms/epoch - 17ms/step\n",
            "Epoch 3/150\n",
            "35/35 - 1s - loss: 0.1183 - val_loss: 0.3346 - 596ms/epoch - 17ms/step\n",
            "Epoch 4/150\n",
            "35/35 - 1s - loss: 0.1116 - val_loss: 0.2943 - 608ms/epoch - 17ms/step\n",
            "Epoch 5/150\n",
            "35/35 - 1s - loss: 0.1078 - val_loss: 0.2620 - 585ms/epoch - 17ms/step\n",
            "Epoch 6/150\n",
            "35/35 - 1s - loss: 0.1051 - val_loss: 0.2580 - 602ms/epoch - 17ms/step\n",
            "Epoch 7/150\n",
            "35/35 - 1s - loss: 0.1028 - val_loss: 0.2619 - 598ms/epoch - 17ms/step\n",
            "Epoch 8/150\n",
            "35/35 - 1s - loss: 0.1010 - val_loss: 0.2528 - 597ms/epoch - 17ms/step\n",
            "Epoch 9/150\n",
            "35/35 - 1s - loss: 0.0984 - val_loss: 0.2587 - 596ms/epoch - 17ms/step\n",
            "Epoch 10/150\n",
            "35/35 - 1s - loss: 0.0977 - val_loss: 0.2640 - 584ms/epoch - 17ms/step\n",
            "Epoch 11/150\n",
            "35/35 - 1s - loss: 0.0972 - val_loss: 0.2668 - 590ms/epoch - 17ms/step\n",
            "Epoch 12/150\n",
            "35/35 - 1s - loss: 0.0953 - val_loss: 0.2629 - 599ms/epoch - 17ms/step\n",
            "Epoch 13/150\n",
            "35/35 - 1s - loss: 0.0944 - val_loss: 0.2672 - 580ms/epoch - 17ms/step\n",
            "1/1 [==============================] - 1s 568ms/step - loss: 0.2672\n"
          ]
        }
      ]
    },
    {
      "cell_type": "markdown",
      "source": [
        "## Plotting model predictions"
      ],
      "metadata": {
        "id": "-8Cy0lBgzT8k"
      }
    },
    {
      "cell_type": "code",
      "metadata": {
        "colab": {
          "base_uri": "https://localhost:8080/",
          "height": 296
        },
        "id": "elGvqPxb6IaU",
        "outputId": "a39eea0f-d6c9-418a-8bed-bc4dab9d7a35"
      },
      "source": [
        "DFvali2 = add_predictions3(DFvali, model, var_in)\n",
        "DFvali2 = DFvali2.set_index(pd.to_datetime(DFvali2['date']))\n",
        "\n",
        "plot_series(statio2[30])\n",
        "plt.scatter(DFvali2.index, DFvali2['pred1'], marker='x')\n",
        "plt.scatter(DFvali2.index, DFvali2['pred2'], marker='x')\n",
        "plt.ylabel('Soil Moisture (cm³ cm⁻³)')\n",
        "plt.ylim(0, 0.8)\n",
        "plt.tick_params(axis='x', rotation=45)\n",
        "plt.show()"
      ],
      "execution_count": 108,
      "outputs": [
        {
          "output_type": "display_data",
          "data": {
            "image/png": "[encoded data removed]",
            "text/plain": [
              "<Figure size 432x288 with 1 Axes>"
            ]
          },
          "metadata": {
            "needs_background": "light"
          }
        }
      ]
    }
  ]
}