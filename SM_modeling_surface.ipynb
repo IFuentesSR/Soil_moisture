{
 "cells": [
  {
   "cell_type": "markdown",
   "metadata": {
    "colab_type": "text",
    "id": "view-in-github"
   },
   "source": [
    "<a href=\"https://colab.research.google.com/github/IFuentesSR/Soil_moisture/blob/main/SM_modeling_surface.ipynb\" target=\"_parent\"><img src=\"https://colab.research.google.com/assets/colab-badge.svg\" alt=\"Open In Colab\"/></a>"
   ]
  },
  {
   "cell_type": "markdown",
   "metadata": {
    "id": "eTJEbnCiRuWt"
   },
   "source": [
    "To obtain access to the datasets used in this work you need to follow the following steps:\n",
    "* Click on [this](https://drive.google.com/drive/u/1/folders/12cYWIfg_0wATfxxtnnhQfLHrghqazwj6) Google Drive folder link. \n",
    "\n",
    "* Then, right click on the **SoilMoisture** folder and select **Add shortcut to Drive**.\n",
    "\n",
    "![picture](https://drive.google.com/uc?id=1lZqtmeemmmCM7OZUj_kiqDMMvgGS375a)\n",
    "\n",
    "* Make a shortcut of the **SoilMoisture** folder in your own **My Drive**-folder, by clicking on **Add shortcut**. \n",
    "\n",
    "![picture](https://drive.google.com/uc?id=133aXjO2jrfMSj9lzK2aZNq69L6wEiKCH)\n",
    "\n",
    "A new Google Drive folder with all the contents of this study has been linked to your Google Drive; therefore, we can link our Google Drive account to have access to the data."
   ]
  },
  {
   "cell_type": "markdown",
   "metadata": {
    "id": "QwGgSfUHUzye"
   },
   "source": [
    "# Connecting Google Drive"
   ]
  },
  {
   "cell_type": "code",
   "execution_count": 1,
   "metadata": {
    "colab": {
     "base_uri": "https://localhost:8080/"
    },
    "id": "x0-Ed9zYUz_9",
    "outputId": "13e0f6a6-b55c-434c-b8bb-a36bd892f877"
   },
   "outputs": [
    {
     "name": "stdout",
     "output_type": "stream",
     "text": [
      "Mounted at /content/drive\n"
     ]
    }
   ],
   "source": [
    "from google.colab import drive\n",
    "drive.mount('/content/drive')"
   ]
  },
  {
   "cell_type": "markdown",
   "metadata": {
    "id": "AZoxrHwXwhHk"
   },
   "source": [
    "## Loading some libraries"
   ]
  },
  {
   "cell_type": "code",
   "execution_count": 28,
   "metadata": {
    "id": "WteH_OdURrki"
   },
   "outputs": [],
   "source": [
    "import os\n",
    "import warnings\n",
    "import numpy as np\n",
    "import pandas as pd\n",
    "import tensorflow as tf\n",
    "import tensorflow_probability as tfp\n",
    "from keras import backend as K\n",
    "from sklearn.preprocessing import OneHotEncoder\n",
    "from tensorflow.keras.layers import Dense, Input, LSTM, Concatenate, Reshape, Lambda, Permute\n",
    "from tensorflow.keras.activations import relu\n",
    "from tensorflow.keras.models import Model\n",
    "from tensorflow.keras.optimizers import Adam\n",
    "from scipy import stats\n",
    "import matplotlib.pyplot as plt\n",
    "\n",
    "enc = OneHotEncoder(handle_unknown='ignore')"
   ]
  },
  {
   "cell_type": "markdown",
   "metadata": {
    "id": "QLBaq4aowiPN"
   },
   "source": [
    "## Connecting to reference data"
   ]
  },
  {
   "cell_type": "code",
   "execution_count": 4,
   "metadata": {
    "id": "yz4IU9JfUsVy"
   },
   "outputs": [],
   "source": [
    "Oznet_path = 'drive/MyDrive/SoilMoisture/oznet'\n",
    "OzFlux_path = 'drive/MyDrive/SoilMoisture/ozflux'\n",
    "\n",
    "oznet_data = [(os.path.join(Oznet_path, n), n) for n in os.listdir(Oznet_path) if n.startswith('comp2_')]\n",
    "ozflux_data = [(os.path.join(OzFlux_path, n), n) for n in os.listdir(OzFlux_path) if n.startswith('comp2_')]\n",
    "stations = oznet_data + ozflux_data\n",
    "\n",
    "not_use = ['Longrea',  'ADwet_2', 'ADdry_2', 'jaxa'] #repeated or in NZ\n",
    "stations = [(n, p) for n, p in stations if p[6:-4] not in not_use]\n",
    "\n",
    "# SSMAP extent does not cover these stations\n",
    "stations = [n for n in stations if ('CapeTri' not in n[1]) & ('CowBay' not in n[1])] \n"
   ]
  },
  {
   "cell_type": "markdown",
   "metadata": {
    "id": "1ZJA5LoKw4d1"
   },
   "source": [
    "## Definition of some pre-processing and plotting functions"
   ]
  },
  {
   "cell_type": "code",
   "execution_count": 24,
   "metadata": {
    "id": "9D8FuYnoxwTK"
   },
   "outputs": [],
   "source": [
    "def split(dataframe, test_frac, train_frac, ran=None):\n",
    "    '''\n",
    "    Description: Splits the data into test, training and validation\n",
    "    Inputs: \n",
    "        dataframe: pandas dataframe\n",
    "        test_frac: float\n",
    "        train_frac: float\n",
    "        ran: integer\n",
    "    Outputs:\n",
    "        test: pandas dataframe\n",
    "        train: pandas dataframe\n",
    "        validation: pandas dataframe\n",
    "    '''\n",
    "    dataframe.reset_index(inplace=True)\n",
    "    test = dataframe.sample(frac=test_frac, random_state=0)\n",
    "    training = dataframe.drop(test.index)\n",
    "    training = training.sample(frac=1)\n",
    "    train = training.sample(frac=train_frac, random_state=ran)\n",
    "    validation = training.drop(train.index)\n",
    "    return test.set_index('index'), train.set_index('index'), validation.set_index('index')\n",
    "\n",
    "\n",
    "def split_train_vali(dataframe, test_frac, ran=0):\n",
    "    '''\n",
    "    Description: Splits the data into training and validation\n",
    "    Inputs: \n",
    "        dataframe: pandas dataframe\n",
    "        test_frac: float\n",
    "        ran: integer\n",
    "    Outputs:\n",
    "        vali: pandas dataframe\n",
    "        train: pandas dataframe\n",
    "    '''\n",
    "    dataframe.reset_index(inplace=True)\n",
    "    vali = dataframe.sample(frac=test_frac, random_state=ran)\n",
    "    training = dataframe.drop(vali.index)\n",
    "    train = training.sample(frac=1)\n",
    "    return vali.set_index('index'), train.set_index('index')\n",
    "\n",
    "\n",
    "def append_sm(dataframe, tuple_station, column=1):\n",
    "    '''\n",
    "    Description: Appends reference soil moisture to predictors dataframe\n",
    "    Inputs: \n",
    "        dataframe: pandas dataframe\n",
    "        tuple_station: tuple with path to files and name of reference files\n",
    "        column: integer corresponding to observation number\n",
    "    Outputs:\n",
    "        df: pandas dataframe\n",
    "    '''\n",
    "    test = pd.read_csv(tuple_station[0], encoding='latin1')\n",
    "    cols = test.columns\n",
    "    test['dates'] = pd.to_datetime(test[cols[0]],\n",
    "                                   format='%Y-%m-%d %H:%M:%S')\n",
    "    test = test.set_index('dates')\n",
    "    test['sm'] = test[cols[column]].astype(float)\n",
    "    resampled = test.resample('D').mean()\n",
    "    resampled['sm'] = resampled['sm']/100\n",
    "    df_sampled = dataframe[dataframe['id'].str.lower() == tuple_station[1][6:-4].lower()]\n",
    "    df_sampledx = df_sampled.copy()\n",
    "    df_sampledx['soilM'] = resampled['sm']\n",
    "    df_sampledx[(df_sampledx['soilM'] < 0.0) |\n",
    "                (df_sampledx['soilM'] > 1)] = np.nan\n",
    "    df_sampledx[~df_sampledx.index.duplicated(keep='first')]\n",
    "    df_sampledx = df_sampledx.dropna(subset=['id', 'soilM'])\n",
    "    df_sampledx = df_sampledx.sort_index()\n",
    "    return df_sampledx\n",
    "\n",
    "\n",
    "def get_reference(tuple_station):\n",
    "    '''\n",
    "    Description: Creates pandas dataframe with reference data\n",
    "    Inputs: \n",
    "        tuple_station: tuple with path to files and name of reference files\n",
    "    Outputs:\n",
    "        resampled: pandas dataframe\n",
    "    '''\n",
    "    test = pd.read_csv(tuple_station[0])\n",
    "    cols = test.columns\n",
    "    test['dates'] = pd.to_datetime(test[cols[0]],\n",
    "                                   format='%Y-%m-%d %H:%M:%S')\n",
    "    test = test.set_index('dates')\n",
    "    test['sm'] = test[cols[1]].astype(float)\n",
    "    resampled = test.resample('D').mean()\n",
    "\n",
    "    resampled['sm'] = resampled['sm']/100\n",
    "    mask = (resampled.index >= '2016-01-01') & (resampled.index < '2020-12-31')\n",
    "    resampled = resampled[mask]\n",
    "    resampled[(resampled['sm'] < 0.0) |\n",
    "              (resampled['sm'] > 1)] = np.nan\n",
    "    return resampled\n",
    "\n",
    "\n",
    "def plot(tuple_station, column):\n",
    "    '''\n",
    "    Description: Plots the reference data time series\n",
    "    Inputs: \n",
    "        tuple_station: tuple with path to files and name of reference files\n",
    "        column: integer corresponding to observation number\n",
    "    Outputs:\n",
    "        matplotlib time series plot\n",
    "    '''\n",
    "    test = pd.read_csv(tuple_station[0])\n",
    "    cols = test.columns\n",
    "    test['dates'] = pd.to_datetime(test[cols[0]],\n",
    "                                   format='%Y-%m-%d %H:%M:%S')\n",
    "    test = test.set_index('dates')\n",
    "    test['sm'] = test[cols[column]].astype(float)\n",
    "    resampled = test.resample('D').mean()\n",
    "    resampled['sm'] = resampled['sm']/100\n",
    "    mask = (resampled.index >= '2016-01-01') & (resampled.index < '2020-04-01')\n",
    "    resampled = resampled[mask]\n",
    "    resampled[(resampled['sm'] < 0.0) |\n",
    "              (resampled['sm'] > 1)] = np.nan\n",
    "    plt.plot(resampled.index, resampled.sm, label='observed')\n",
    "    plt.title(tuple_station[1][6:-4])\n",
    "    plt.tick_params(axis='x', rotation=30)\n",
    "\n",
    "\n",
    "def plot_predictions(df, tuple_station, model, variables, column=1):\n",
    "    '''\n",
    "    Description: Plots the reference data time series and model predictions\n",
    "    Inputs: \n",
    "        df: pd predictors dataframe\n",
    "        tuple_station: tuple with path to files and name of reference files\n",
    "        column: integer corresponding to observation number\n",
    "        model: tf trained model\n",
    "        variables: list of predictor variables\n",
    "    Outputs:\n",
    "        matplotlib time series plot\n",
    "    '''\n",
    "    plot(tuple_station, column)\n",
    "    df['id'] = df['id'].str.lower()\n",
    "    DFsub = df[df['id'] == tuple_station[1][6:-4].lower()]\n",
    "    DFsub['pred'] = model.predict(DFsub[variables].values.reshape((DFsub[variables].shape[0],\n",
    "                                                                   DFsub[variables].shape[1],\n",
    "                                                                   1)))\n",
    "\n",
    "    DFsub['date'] = pd.to_datetime(DFsub['date'], format='%Y-%m-%d')\n",
    "    DFsub = DFsub.set_index('date')\n",
    "    plt.scatter(DFsub.index, DFsub['pred'], marker='x', c='red', label='predicted')\n"
   ]
  },
  {
   "cell_type": "markdown",
   "metadata": {
    "id": "pppHoVNa1rge"
   },
   "source": [
    "## Defining modelling functions"
   ]
  },
  {
   "cell_type": "code",
   "execution_count": 2,
   "metadata": {
    "id": "xAN1Hr8k-SqT"
   },
   "outputs": [],
   "source": [
    "def ccc(y_true, x_true):\n",
    "    '''\n",
    "    Description: Creates ccc loss function for tf model\n",
    "    Inputs: \n",
    "        y_true: predictions\n",
    "        x_true: observations\n",
    "    Outputs:\n",
    "        ccc loss function\n",
    "    '''\n",
    "    uy, ux = K.mean(y_true), K.mean(x_true)\n",
    "    sxy = tfp.stats.covariance(y_true, x_true)\n",
    "    sy, sx = tfp.stats.variance(y_true), tfp.stats.variance(x_true)\n",
    "    E = 2*sxy/(sy+sx+K.pow(uy-ux, 2))\n",
    "    return 1-E\n",
    "\n",
    "\n",
    "def crop(dimension, start, end):\n",
    "    '''\n",
    "    Description: Crops (or slices) a Tensor on a given dimension from start to end\n",
    "    Inputs: \n",
    "        start: integer\n",
    "        end: integger\n",
    "        dimension: integer with dimensions\n",
    "    Outputs:\n",
    "        lambda function\n",
    "    '''\n",
    "    def func(x):\n",
    "        if dimension == 0:\n",
    "            return x[start: end]\n",
    "        if dimension == 1:\n",
    "            return x[:, start: end]\n",
    "        if dimension == 2:\n",
    "            return x[:, :, start: end]\n",
    "        if dimension == 3:\n",
    "            return x[:, :, :, start: end]\n",
    "        if dimension == 4:\n",
    "            return x[:, :, :, :, start: end]\n",
    "    return Lambda(func)\n",
    "\n",
    "\n",
    "def modl(inputs):\n",
    "    '''\n",
    "    Description: Creates a combined LSTM and MLP tf model\n",
    "    Inputs: \n",
    "        inputs: list of inputs\n",
    "    Outputs:\n",
    "        tf model\n",
    "    '''\n",
    "    input = Input(shape=(len(inputs), 1), dtype='float32')\n",
    "    slice1 = crop(1, 0, int(len(lstm_cols)))(input)\n",
    "    reshaped = Reshape((3, int(len(lstm_cols)/3)), input_shape=(int(len(lstm_cols)), 1))(slice1)\n",
    "    lstm_input = Permute((2, 1), input_shape=(3, int(len(lstm_cols)/3)))(reshaped)\n",
    "    hidden1 = LSTM(200, activation='relu')(lstm_input)\n",
    "    slice2 = crop(1, int(len(lstm_cols)), len(var_in))(input)\n",
    "    slice2 = Reshape((len(var_in) - int(len(lstm_cols)), ),\n",
    "                     input_shape=(len(var_in) - int(len(lstm_cols)), ))(slice2)\n",
    "    x = Concatenate()([hidden1, slice2])\n",
    "    hidden3 = Dense(128, activation='relu')(x)\n",
    "    hidden4 = Dense(64, activation='relu')(hidden3)\n",
    "    hidden5 = Dense(32, activation='relu')(hidden4)\n",
    "    hidden6 = Dense(16, activation='relu')(hidden5)\n",
    "    mlp_out = Dense(1, activation=lambda x: relu(x, max_value=1.0))(hidden6)\n",
    "\n",
    "    model = Model(inputs=input, outputs=mlp_out)\n",
    "    model.compile(loss=ccc, optimizer=Adam(lr=0.00003))\n",
    "    return model\n",
    "\n",
    "\n",
    "def mlp(inputs):\n",
    "    '''\n",
    "    Description: Creates a MLP tf model\n",
    "    Inputs: \n",
    "        inputs: list of inputs\n",
    "    Outputs:\n",
    "        tf model\n",
    "    '''\n",
    "    input = Input(shape=(len(inputs)), dtype='float32')\n",
    "    hidden3 = Dense(128, activation='relu')(input)\n",
    "    hidden4 = Dense(64, activation='relu')(hidden3)\n",
    "    hidden5 = Dense(32, activation='relu')(hidden4)\n",
    "    hidden5 = Dense(16, activation='relu')(hidden4)\n",
    "    mlp_out = Dense(1, activation=lambda x: relu(x, max_value=1.0))(hidden5)\n",
    "\n",
    "    model = Model(inputs=input, outputs=mlp_out)\n",
    "    model.compile(loss=ccc, optimizer=Adam(lr=0.00003))\n",
    "    return model\n",
    "\n",
    "\n",
    "def leave_one_out(probe, dataframe, inputs, model,  stations):\n",
    "    '''\n",
    "    Description: Returns trained tf model with leave one out cross validation\n",
    "    Inputs: \n",
    "        probe: string of station left out\n",
    "        dataframe: predictors dataframe\n",
    "        inputs: list of inputs\n",
    "        model: tf model\n",
    "        stations: list of strings (station names)\n",
    "    Outputs:\n",
    "        mdl: trained tf model\n",
    "        here: dictionary with history of training\n",
    "        DFvali: pd dataframe subset for validation subset\n",
    "        DFtest: pd dataframe subset for test subset based on probe\n",
    "    '''\n",
    "    DFs = dataframe.copy()\n",
    "    DFs = DFs.dropna(how='any')\n",
    "    DFs = DFs.sample(frac=1)\n",
    "    DFs1 = DFs[inputs]\n",
    "    DFs1 = DFs1.apply(lambda x: (x - x.min())/(x.max() - x.min()))\n",
    "    DFs1['soilM'], DFs1['date'], DFs1['id'] = DFs['soilM'], DFs['date'], DFs['id']\n",
    "    stations_rem = [n for n in stations if n != probe]\n",
    "    vali_ix = np.random.randint(0, len(stations_rem))\n",
    "    vali_station = stations[vali_ix]\n",
    "    DFtrain = DFs1[(DFs1['id'] != probe) & (DFs1['id'] != vali_station)]\n",
    "    DFvali = DFs1[DFs1['id'] == vali_station] # for early stop and fine tuning\n",
    "    DFtest = DFs1[DFs1['id'] == probe] # for performance\n",
    "    tr_in = DFtrain[inputs].values.reshape((DFtrain[inputs].shape[0],\n",
    "                                            DFtrain[inputs].shape[1],\n",
    "                                            1))\n",
    "    tr_out = DFtrain['soilM'].values\n",
    "    tr_in, tr_out = tr_in.astype('float32'), tr_out.astype('float32')\n",
    "    va_in = DFvali[inputs].values.reshape((DFvali[inputs].shape[0],\n",
    "                                           DFvali[inputs].shape[1],\n",
    "                                           1))\n",
    "    va_out = DFvali['soilM'].values\n",
    "    va_in, va_out = va_in.astype('float32'), va_out.astype('float32')\n",
    "    mdl = model(inputs)\n",
    "    callback = tf.keras.callbacks.EarlyStopping(monitor='val_loss', patience=20)\n",
    "    here = mdl.fit(tr_in.reshape((tr_in.shape[0], tr_in.shape[1])),\n",
    "                   tr_out,\n",
    "                   epochs=500,\n",
    "                   verbose=2,\n",
    "                   batch_size=256,\n",
    "                   validation_data=(va_in.reshape((va_in.shape[0], va_in.shape[1])), va_out),\n",
    "                   callbacks=[callback])\n",
    "    return mdl, here, DFvali, DFtest\n",
    "\n",
    "\n",
    "def model_whole(dataframe, inputs, model, test_frac):\n",
    "    '''\n",
    "    Description: Returns trained tf model with traning and validation split for SHAP\n",
    "    Inputs: \n",
    "        dataframe: predictors dataframe\n",
    "        inputs: list of inputs\n",
    "        model: tf model\n",
    "        test_frac: float\n",
    "    Outputs:\n",
    "        mdl: trained tf model\n",
    "        here: dictionary with history of training\n",
    "        tr_in: pd dataframe subset for training\n",
    "        vali_in: pd dataframe subset for validation\n",
    "        DFs1: pd dataframe for predictors\n",
    "    '''\n",
    "    DFs = dataframe.copy()\n",
    "    DFs = DFs.dropna(how='any')\n",
    "    DFs = DFs.sample(frac=1)\n",
    "    DFs1 = DFs[inputs]\n",
    "    DFs1 = DFs1.apply(lambda x: (x - x.min())/(x.max() - x.min()))\n",
    "    DFs1['soilM'], DFs1['date'], DFs1['id'] = DFs['soilM'], DFs['date'], DFs['id']\n",
    "    vali, train = split_train_vali(DFs1, test_frac, ran=0)\n",
    "    tr_in = train[inputs].values.reshape((train[inputs].shape[0],\n",
    "                                          train[inputs].shape[1],\n",
    "                                          1)).astype('float32')\n",
    "    vali_in = vali[inputs].values.reshape((vali[inputs].shape[0],\n",
    "                                           vali[inputs].shape[1],\n",
    "                                           1)).astype('float32')\n",
    "    tr_out, vali_out = train['soilM'].values.astype('float32'), vali['soilM'].values.astype('float32')\n",
    "    mdl = model(inputs)\n",
    "    callback = tf.keras.callbacks.EarlyStopping(monitor='val_loss', patience=20)\n",
    "    here = mdl.fit(tr_in.reshape((tr_in.shape[0], tr_in.shape[1])),\n",
    "                   tr_out,\n",
    "                   epochs=500,\n",
    "                   verbose=2,\n",
    "                   batch_size=256,\n",
    "                   validation_data=(vali_in.reshape((vali_in.shape[0], vali_in.shape[1])), vali_out),\n",
    "                   callbacks=[callback])\n",
    "    return mdl, here, tr_in, vali_in, DFs1[inputs]\n",
    "\n",
    "\n",
    "def model_khold(dataframe, inputs, model, test_frac, train_frac):\n",
    "    '''\n",
    "    Description: Returns trained tf model splitting into test, training, and validation\n",
    "    Inputs: \n",
    "        dataframe: predictors dataframe\n",
    "        inputs: list of inputs\n",
    "        model: tf model\n",
    "        test_frac: float\n",
    "        train_frac: float\n",
    "    Outputs:\n",
    "        mdl: trained tf model\n",
    "        here: dictionary with history of training\n",
    "        vali_in: pd dataframe subset for validation\n",
    "        DFs1: pd dataframe for predictors\n",
    "    '''\n",
    "    DFs = dataframe.copy()\n",
    "    DFs = DFs.dropna(how='any')\n",
    "    DFs = DFs.sample(frac=1)\n",
    "    DFs1 = DFs[inputs]\n",
    "    DFs1 = DFs1.apply(lambda x: (x - x.min())/(x.max() - x.min()))\n",
    "    DFs1['soilM'], DFs1['date'], DFs1['id'] = DFs['soilM'], DFs['date'], DFs['id']\n",
    "    te, tr, va = split(DFs1, test_frac, train_frac, ran=42)\n",
    "    tr_in = tr[inputs].values.reshape((tr[inputs].shape[0],\n",
    "                                       tr[inputs].shape[1],\n",
    "                                       1)).astype('float32')\n",
    "    vali_in = va[inputs].values.reshape((va[inputs].shape[0],\n",
    "                                         va[inputs].shape[1],\n",
    "                                         1)).astype('float32')\n",
    "    tr_out, vali_out = tr['soilM'].values.astype('float32'), va['soilM'].values.astype('float32')\n",
    "    mdl = model(inputs)\n",
    "    callback = tf.keras.callbacks.EarlyStopping(monitor='val_loss', patience=20)\n",
    "    here = mdl.fit(tr_in.reshape((tr_in.shape[0], tr_in.shape[1])),\n",
    "                   tr_out,\n",
    "                   epochs=500,\n",
    "                   verbose=2,\n",
    "                   batch_size=256,\n",
    "                   validation_data=(vali_in.reshape((vali_in.shape[0], vali_in.shape[1])), vali_out),\n",
    "                   callbacks=[callback])\n",
    "    return mdl, here, tr_in, vali_in, DFs1[inputs]\n"
   ]
  },
  {
   "cell_type": "markdown",
   "metadata": {
    "id": "SZ3Yd_lD9q1c"
   },
   "source": [
    "## Defining funtions to assess modelling"
   ]
  },
  {
   "cell_type": "code",
   "execution_count": 7,
   "metadata": {
    "id": "9RDnqi2j_HiO"
   },
   "outputs": [],
   "source": [
    "def plot_learning(history):\n",
    "    '''\n",
    "    Description: Creates learning curve plot \n",
    "    Inputs: \n",
    "        history: dictionary with training loss\n",
    "    Outputs:\n",
    "        learning curve matplotlib plot \n",
    "    '''\n",
    "    plt.plot(range(len(history.history['val_loss'])),\n",
    "             history.history['loss'],\n",
    "             label='train')\n",
    "    plt.plot(range(len(history.history['val_loss'])),\n",
    "             history.history['val_loss'],\n",
    "             label='validation')\n",
    "    plt.xlabel('Epochs', fontsize=14)\n",
    "    plt.ylabel(r'Loss $(1 - \\rho_c)$', fontsize=14)\n",
    "    plt.legend(fontsize=12)\n",
    "    plt.tick_params(axis='both', labelsize=12)\n",
    "\n",
    "\n",
    "def add_predictions(df, model, inputs):\n",
    "    '''\n",
    "    Description: Adds predictions column to dataframe\n",
    "    Inputs: \n",
    "        df: pandas dataframe\n",
    "        model: tf model\n",
    "        inputs: list of predictors\n",
    "    Outputs:\n",
    "        df: pandas dataframe\n",
    "    '''\n",
    "    predictions = model.predict(df[inputs].values.reshape((df.shape[0],\n",
    "                                                           df[inputs].shape[1],\n",
    "                                                           1)))\n",
    "    df['pred'] = predictions\n",
    "    return df\n",
    "\n",
    "\n",
    "def add_predictions2(df, model, inputs):\n",
    "    predictions = model.predict(df[inputs].values)\n",
    "    df['pred'] = predictions\n",
    "    return df\n",
    "\n",
    "\n",
    "def plot_performance(df):\n",
    "    '''\n",
    "    Description: Creates performance plot with metrics\n",
    "    Inputs: \n",
    "        df: pandas dataframe\n",
    "    Outputs:\n",
    "        matplotlib plot\n",
    "    '''\n",
    "    rmse = np.mean((df['soilM'] - df['pred'])**2)**0.5\n",
    "    slope, intercept, r, p_value, std_err = stats.linregress(df['soilM'],\n",
    "                                                             df['pred'])\n",
    "    plt.scatter(df['soilM'], df['pred'], alpha=0.3)\n",
    "    plt.plot(np.linspace(0, 1.5, 100),\n",
    "             np.linspace(0, 1.5, 100),\n",
    "             linestyle='--',\n",
    "             color='black')\n",
    "    plt.xlim(0, 1)\n",
    "    plt.ylim(0, 1)\n",
    "    plt.xlabel(r'Observed $\\theta$', fontsize=14)\n",
    "    plt.ylabel(r'Predicted $\\theta$', fontsize=14)\n",
    "    plt.tick_params(axis='both', labelsize=12)\n",
    "    plt.text(0.05, 0.85, 'RMSE = {}\\nR² = {}'.format(str(np.round(rmse, 3)),\n",
    "                                                     str(np.round(r**2, 3))),\n",
    "             fontsize=12)\n",
    "    \n",
    "\n",
    "def plot_series(station, column=1):\n",
    "    '''\n",
    "    Description: Creates time series plot for stations\n",
    "    Inputs: \n",
    "        station: string\n",
    "        column: observation number\n",
    "    Outputs:\n",
    "        matplotlib plot\n",
    "    '''\n",
    "    data_ref = [n for n in stations if n[1][6:-4] == station]\n",
    "    check = pd.read_csv(data_ref[0][0])\n",
    "    cols = check.columns\n",
    "    if 'oznet' in data_ref[0][0]:\n",
    "        check = check.set_index(pd.to_datetime(check['dates'], format='%Y-%m-%d %H:%M:%S'))\n",
    "    else:\n",
    "        check = check.set_index(pd.to_datetime(check['Unnamed: 0'], format='%Y-%m-%d %H:%M:%S'))\n",
    "    check['sm'] = check[cols[column]].astype(float)\n",
    "    check = check.resample('D').mean()\n",
    "    check[(check['sm']<0) | (check['sm']>100)] = np.nan\n",
    "    check['sm'] = check['sm']/100\n",
    "    check = check[(check.index > '2016-01-01')]\n",
    "    plt.plot(check.index, check['sm'], label='observed')\n",
    "\n",
    "\n",
    "def station_series(model, df, inputs, stations, ix):\n",
    "    '''\n",
    "    Description: Returns figure of reference data time series and model predictions\n",
    "    Inputs:\n",
    "        model: tf trained model \n",
    "        df: pd predictors dataframe\n",
    "        inputs: list of predictor variables\n",
    "        stations: list of station tuples\n",
    "        ix: integer index\n",
    "    Outputs:\n",
    "        matplotlib figure\n",
    "    '''\n",
    "    figure = plt.figure()\n",
    "    test = plot_predictions(df, stations[ix], model, inputs)\n",
    "    plt.ylabel('$\\\\theta$  (cm$^3$ cm$^{-3}$)', fontsize=14)\n",
    "    plt.tick_params(axis='both', labelsize=13)\n",
    "    plt.legend(fontsize=13)\n",
    "    plt.show()\n"
   ]
  },
  {
   "cell_type": "markdown",
   "metadata": {
    "id": "XHnOBwjU0_qz"
   },
   "source": [
    "## Toy example"
   ]
  },
  {
   "cell_type": "markdown",
   "metadata": {
    "id": "oASUVP3y1EtE"
   },
   "source": [
    "### Loading predictors"
   ]
  },
  {
   "cell_type": "code",
   "execution_count": 25,
   "metadata": {
    "id": "IzyeRtHRy47-"
   },
   "outputs": [],
   "source": [
    "df = pd.read_csv('drive/MyDrive/SoilMoisture/soil_moist_inputs.csv')\n",
    "df.drop(['.geo'], inplace=True, axis=1)\n",
    "df.set_index(pd.to_datetime(df['date'], format='%Y-%m-%d'), inplace=True)\n",
    "df.dropna(how='any', inplace=True)\n",
    "dfs = [append_sm(df, n) for n in stations]"
   ]
  },
  {
   "cell_type": "markdown",
   "metadata": {
    "id": "OWxlmGq5IJDk"
   },
   "source": [
    "### Setting covariate and prediction names"
   ]
  },
  {
   "cell_type": "code",
   "execution_count": 26,
   "metadata": {
    "id": "_Mn1mwzKH_3L"
   },
   "outputs": [],
   "source": [
    "ixs = range(1, 11)\n",
    "smap_cols = ['smap{}'.format(str(n)) for n in ixs]\n",
    "ssmap_cols = ['ssmap{}'.format(str(n)) for n in ixs]\n",
    "chirps_cols = ['chirps{}'.format(str(n)) for n in ixs]\n",
    "\n",
    "lstm_cols = smap_cols+chirps_cols+ssmap_cols\n",
    "\n",
    "mlp_cols = [#'hnd', 'upa', \n",
    "            'VV', 'rSSM',\n",
    "            'AWC1', 'AWC2', 'AWC3', 'AWC4',\n",
    "            'CLY1', 'CLY2', 'CLY3', 'CLY4',\n",
    "            'SOC1', 'SOC2', 'SOC3', 'SOC4',\n",
    "            'LST_Day_1km', 'LST_Night_1km',\n",
    "            'sur_refl_b01', 'sur_refl_b02', 'sur_refl_b03',\n",
    "            'sur_refl_b04', 'sur_refl_b05', 'sur_refl_b06', 'sur_refl_b07',\n",
    "            'NDVI', 'irri', 'past', 'agri', 'fore', 'sava'] \n",
    "\n",
    "var_in = lstm_cols + mlp_cols\n",
    "var = var_in.copy()\n",
    "var_y = 'soilM'\n",
    "var.append(var_y)"
   ]
  },
  {
   "cell_type": "markdown",
   "metadata": {
    "id": "ixFLUAupKDue"
   },
   "source": [
    "### Setting predictors dataframe (land use to one hot encode)"
   ]
  },
  {
   "cell_type": "code",
   "execution_count": 37,
   "metadata": {
    "id": "VP9J8v9tIRRG"
   },
   "outputs": [],
   "source": [
    "DF = pd.concat(dfs)\n",
    "DF.drop('date', axis=1, inplace=True)\n",
    "DF = DF.reset_index()\n",
    "\n",
    "DF.loc[(DF['LU'] == 7), 'LU'] = 2\n",
    "\n",
    "DF.loc[(DF['LU'] == 11), 'LU'] = 1  # changed wetland to pasture\n",
    "DF.loc[(DF['LU'] == 9), 'LU'] = 10  #shrubland (1) to savanna\n",
    "enc_df = pd.DataFrame(enc.fit_transform(DF[['LU']]).toarray())\n",
    "enc_df.rename(columns={0: 'irri', 1: 'past', 2: 'agri', 3: 'fore', 4: 'sava'}, inplace=True)\n",
    "DF = DF.join(enc_df)\n",
    "\n",
    "statio = DF['id'].unique().tolist()"
   ]
  },
  {
   "cell_type": "markdown",
   "metadata": {
    "id": "DqtSX7ZCL4Z-"
   },
   "source": [
    "## Running one model test and plot learning curve"
   ]
  },
  {
   "cell_type": "code",
   "execution_count": 43,
   "metadata": {
    "colab": {
     "base_uri": "https://localhost:8080/",
     "height": 1000
    },
    "id": "tB2EFCI9_xli",
    "outputId": "69127788-1b25-44f4-e6f5-9d1cc4d6eef0"
   },
   "outputs": [
    {
     "name": "stderr",
     "output_type": "stream",
     "text": [
      "/usr/local/lib/python3.7/dist-packages/keras/optimizer_v2/adam.py:105: UserWarning: The `lr` argument is deprecated, use `learning_rate` instead.\n",
      "  super(Adam, self).__init__(name, **kwargs)\n"
     ]
    },
    {
     "name": "stdout",
     "output_type": "stream",
     "text": [
      "Epoch 1/500\n",
      "27/27 - 1s - loss: 0.8733 - val_loss: 0.6257 - 1s/epoch - 41ms/step\n",
      "Epoch 2/500\n",
      "27/27 - 0s - loss: 0.7895 - val_loss: 0.3558 - 97ms/epoch - 4ms/step\n",
      "Epoch 3/500\n",
      "27/27 - 0s - loss: 0.6508 - val_loss: 0.2052 - 91ms/epoch - 3ms/step\n",
      "Epoch 4/500\n",
      "27/27 - 0s - loss: 0.4674 - val_loss: 0.2562 - 96ms/epoch - 4ms/step\n",
      "Epoch 5/500\n",
      "27/27 - 0s - loss: 0.3661 - val_loss: 0.2475 - 92ms/epoch - 3ms/step\n",
      "Epoch 6/500\n",
      "27/27 - 0s - loss: 0.3138 - val_loss: 0.2841 - 95ms/epoch - 4ms/step\n",
      "Epoch 7/500\n",
      "27/27 - 0s - loss: 0.2870 - val_loss: 0.2859 - 97ms/epoch - 4ms/step\n",
      "Epoch 8/500\n",
      "27/27 - 0s - loss: 0.2688 - val_loss: 0.2847 - 104ms/epoch - 4ms/step\n",
      "Epoch 9/500\n",
      "27/27 - 0s - loss: 0.2561 - val_loss: 0.2755 - 99ms/epoch - 4ms/step\n",
      "Epoch 10/500\n",
      "27/27 - 0s - loss: 0.2492 - val_loss: 0.2698 - 107ms/epoch - 4ms/step\n",
      "Epoch 11/500\n",
      "27/27 - 0s - loss: 0.2449 - val_loss: 0.2724 - 95ms/epoch - 4ms/step\n",
      "Epoch 12/500\n",
      "27/27 - 0s - loss: 0.2392 - val_loss: 0.2739 - 97ms/epoch - 4ms/step\n",
      "Epoch 13/500\n",
      "27/27 - 0s - loss: 0.2348 - val_loss: 0.2622 - 96ms/epoch - 4ms/step\n",
      "Epoch 14/500\n",
      "27/27 - 0s - loss: 0.2308 - val_loss: 0.2542 - 97ms/epoch - 4ms/step\n",
      "Epoch 15/500\n",
      "27/27 - 0s - loss: 0.2277 - val_loss: 0.2531 - 88ms/epoch - 3ms/step\n",
      "Epoch 16/500\n",
      "27/27 - 0s - loss: 0.2254 - val_loss: 0.2436 - 92ms/epoch - 3ms/step\n",
      "Epoch 17/500\n",
      "27/27 - 0s - loss: 0.2209 - val_loss: 0.2494 - 96ms/epoch - 4ms/step\n",
      "Epoch 18/500\n",
      "27/27 - 0s - loss: 0.2203 - val_loss: 0.2406 - 111ms/epoch - 4ms/step\n",
      "Epoch 19/500\n",
      "27/27 - 0s - loss: 0.2181 - val_loss: 0.2386 - 90ms/epoch - 3ms/step\n",
      "Epoch 20/500\n",
      "27/27 - 0s - loss: 0.2160 - val_loss: 0.2377 - 99ms/epoch - 4ms/step\n",
      "Epoch 21/500\n",
      "27/27 - 0s - loss: 0.2134 - val_loss: 0.2305 - 100ms/epoch - 4ms/step\n",
      "Epoch 22/500\n",
      "27/27 - 0s - loss: 0.2121 - val_loss: 0.2335 - 89ms/epoch - 3ms/step\n",
      "Epoch 23/500\n",
      "27/27 - 0s - loss: 0.2103 - val_loss: 0.2305 - 101ms/epoch - 4ms/step\n"
     ]
    },
    {
     "data": {
      "image/png": "[encoded data removed]",
      "text/plain": [
       "<Figure size 432x288 with 1 Axes>"
      ]
     },
     "metadata": {
      "needs_background": "light"
     },
     "output_type": "display_data"
    }
   ],
   "source": [
    "model, test, DFvali = leave_one_out(statio[42], DF, var_in, mlp, statio)\n",
    "\n",
    "plot_learning(test)\n",
    "plt.show()\n",
    "\n"
   ]
  },
  {
   "cell_type": "markdown",
   "metadata": {
    "id": "eKw4-RKvTeMT"
   },
   "source": [
    "### plotting performance"
   ]
  },
  {
   "cell_type": "code",
   "execution_count": 70,
   "metadata": {
    "colab": {
     "base_uri": "https://localhost:8080/",
     "height": 555
    },
    "id": "ySgVbXKGNzJ4",
    "outputId": "35fc033d-7db1-498f-f842-837966a681db"
   },
   "outputs": [
    {
     "data": {
      "image/png": "[encoded data removed]",
      "text/plain": [
       "<Figure size 432x288 with 1 Axes>"
      ]
     },
     "metadata": {
      "needs_background": "light"
     },
     "output_type": "display_data"
    },
    {
     "data": {
      "image/png": "[encoded data removed]",
      "text/plain": [
       "<Figure size 432x288 with 1 Axes>"
      ]
     },
     "metadata": {
      "needs_background": "light"
     },
     "output_type": "display_data"
    }
   ],
   "source": [
    "DFtest = add_predictions(DFtest, model, var_in)\n",
    "plot_performance(DFtest)\n",
    "plt.title(statio[42])\n",
    "plt.show()\n",
    "\n",
    "\n",
    "DFtest = DFtest.set_index(pd.to_datetime(DFtest['date']))\n",
    "DFtest['soilM']\n",
    "plt.plot(DFtest['soilM'], label='observed')\n",
    "plt.scatter(DFtest.index, DFtest['pred'], color='red', marker='x', label='predicted')\n",
    "plt.ylim(0, 0.6)\n",
    "plt.ylabel('Soil Moisture cm³ cm ⁻³')\n",
    "plt.legend()\n",
    "plt.show()"
   ]
  }
 ],
 "metadata": {
  "colab": {
   "authorship_tag": "ABX9TyNT1xuYcBIE+eTyiRKIjkFB",
   "collapsed_sections": [],
   "include_colab_link": true,
   "name": "SM_modeling_surface.ipynb",
   "provenance": []
  },
  "kernelspec": {
   "display_name": "Python 3",
   "language": "python",
   "name": "python3"
  },
  "language_info": {
   "codemirror_mode": {
    "name": "ipython",
    "version": 3
   },
   "file_extension": ".py",
   "mimetype": "text/x-python",
   "name": "python",
   "nbconvert_exporter": "python",
   "pygments_lexer": "ipython3",
   "version": "3.8.10"
  }
 },
 "nbformat": 4,
 "nbformat_minor": 1
}
