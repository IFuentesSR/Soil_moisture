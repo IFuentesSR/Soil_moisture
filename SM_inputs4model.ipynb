{
  "nbformat": 4,
  "nbformat_minor": 0,
  "metadata": {
    "colab": {
      "name": "SM_inputs4model.ipynb",
      "provenance": [],
      "authorship_tag": "ABX9TyND1pxq+cctSW3Layo8P5B0",
      "include_colab_link": true
    },
    "kernelspec": {
      "display_name": "Python 3",
      "name": "python3"
    },
    "language_info": {
      "name": "python"
    }
  },
  "cells": [
    {
      "cell_type": "markdown",
      "metadata": {
        "id": "view-in-github",
        "colab_type": "text"
      },
      "source": [
        "<a href=\"https://colab.research.google.com/github/IFuentesSR/Soil_moisture/blob/main/SM_inputs4model.ipynb\" target=\"_parent\"><img src=\"https://colab.research.google.com/assets/colab-badge.svg\" alt=\"Open In Colab\"/></a>"
      ]
    },
    {
      "cell_type": "code",
      "metadata": {
        "colab": {
          "base_uri": "https://localhost:8080/"
        },
        "id": "__k7CYiiJvDM",
        "outputId": "4fd3126a-fd20-4a99-f709-20f3e5fe1df2"
      },
      "source": [
        "# Import, authenticate and initialize the Earth Engine library.\n",
        "import ee\n",
        "ee.Authenticate()\n",
        "ee.Initialize()"
      ],
      "execution_count": 1,
      "outputs": [
        {
          "output_type": "stream",
          "name": "stdout",
          "text": [
            "To authorize access needed by Earth Engine, open the following URL in a web browser and follow the instructions. If the web browser does not start automatically, please manually browse the URL below.\n",
            "\n",
            "    https://accounts.google.com/o/oauth2/auth?client_id=517222506229-vsmmajv00ul0bs7p89v5m89qs8eb9359.apps.googleusercontent.com&scope=https%3A%2F%2Fwww.googleapis.com%2Fauth%2Fearthengine+https%3A%2F%2Fwww.googleapis.com%2Fauth%2Fdevstorage.full_control&redirect_uri=urn%3Aietf%3Awg%3Aoauth%3A2.0%3Aoob&response_type=code&code_challenge=mxh0BPY-lidF3nLesX4Ea5-m6lsXdRQ0h2ZlaB2hE7c&code_challenge_method=S256\n",
            "\n",
            "The authorization workflow will generate a code, which you should paste in the box below. \n",
            "Enter verification code: 4/1AX4XfWgQBirMu9aOz3LeU_ZfZ7Z_t7ksMjHPS5PFSpRGErt3iHHm2T-NOUE\n",
            "\n",
            "Successfully saved authorization token.\n"
          ]
        }
      ]
    },
    {
      "cell_type": "code",
      "metadata": {
        "id": "bELLc5NzKYY3"
      },
      "source": [
        "import folium"
      ],
      "execution_count": 2,
      "outputs": []
    },
    {
      "cell_type": "markdown",
      "source": [
        "## Preprocessing functions to stack predictors"
      ],
      "metadata": {
        "id": "CwfpuZHzvMA6"
      }
    },
    {
      "cell_type": "code",
      "metadata": {
        "id": "djPC14EVKmX0"
      },
      "source": [
        "def toNatural(img):\n",
        "    '''\n",
        "    Description: function that converts dB to natural values for S1 image\n",
        "    Inputs: \n",
        "        img: ee.Image\n",
        "    Outputs:\n",
        "        ee.Image\n",
        "    '''\n",
        "    img = ee.Image(img)\n",
        "    props = img.propertyNames()\n",
        "    return ee.Image(10.0).pow(img.select(0).divide(10.0)).copyProperties(img, props)\n",
        "\n",
        "\n",
        "def force_time_end(img):\n",
        "    '''\n",
        "    Description: set time_end in images\n",
        "    Input: \n",
        "        img: ee.Image\n",
        "    Output:\n",
        "        ee.Image\n",
        "    '''\n",
        "    img = ee.Image(img)\n",
        "    properties = img.propertyNames()\n",
        "    condition = ee.Algorithms.If(properties.contains('system:time_end'),\n",
        "                                 img,\n",
        "                                 img.set('system:time_end', img.get('system:time_start')))\n",
        "    return ee.Image(condition)\n",
        "\n",
        "\n",
        "def toDB(img):\n",
        "    '''\n",
        "    Description: function that converts to dB values for S1 image\n",
        "    Input: \n",
        "        img: ee.Image\n",
        "    Output:\n",
        "        ee.Image\n",
        "    '''\n",
        "    img = ee.Image(img)\n",
        "    properties = img.propertyNames()\n",
        "    return img.log10().multiply(10.0).copyProperties(img, properties)\n",
        "\n",
        "\n",
        "# DOI: 10.1109/TGRS.2018.2858004\n",
        "def edgeRemoval(img):\n",
        "    '''\n",
        "    Description: clamp sentinel 1 db values between -20 and -5\n",
        "    Input: \n",
        "        img: ee.Image\n",
        "    Output:\n",
        "        ee.Image\n",
        "    '''\n",
        "    img = ee.Image(img)\n",
        "    return img.updateMask(img.gt(-20).And(img.lt(-5)))\n",
        "\n",
        "\n",
        "def gaussianFilter(img):\n",
        "    '''\n",
        "    Description: applies a 3x3 kernel gaussian filter to image\n",
        "    Input: \n",
        "        img: ee.Image\n",
        "    Output:\n",
        "        ee.Image\n",
        "    '''\n",
        "    properties = img.propertyNames()\n",
        "    img = ee.Image(resampleImage(ee.Image(edgeRemoval(img))))\n",
        "    return img.convolve(ee.Kernel.gaussian(3, 3)).copyProperties(img,\n",
        "                                                                 properties)\n",
        "    \n",
        "\n",
        "def angleCorrection2(slope):\n",
        "    '''\n",
        "    Description: applies correction to S1 image based on incidence angle\n",
        "    Input: \n",
        "        img: ee.Image\n",
        "    Output:\n",
        "        ee.Image\n",
        "    '''\n",
        "    def inner(img):\n",
        "        img = ee.Image(img)\n",
        "        props = img.propertyNames()\n",
        "        ols = img.addBands(img.select('VV').subtract(ee.Image(slope).multiply(img.select('angle2').subtract(30))).rename('sigma30'))\n",
        "        return ols.copyProperties(img, props)\n",
        "    return inner\n",
        "\n",
        "\n",
        "def resampleAngle(img):\n",
        "    '''\n",
        "    Description: Bicubic resampling of incidence angle band in S1 images\n",
        "    Input: \n",
        "        img: ee.Image\n",
        "    Output:\n",
        "        ee.Image\n",
        "    '''\n",
        "    img = ee.Image(img)\n",
        "    props = img.propertyNames()\n",
        "    resampled = img.addBands(img.select('angle').resample('bicubic').rename('angle2'))\n",
        "    return resampled.copyProperties(img, props)\n",
        "\n",
        "\n",
        "def rSSM(minimum, maximum):\n",
        "    '''\n",
        "    Description: calculates the rSSM based on normalization with 2 extremes\n",
        "    Input: \n",
        "        img: ee.Image\n",
        "        minimum: ee.Image corresponding to 5 percentil in sigma30 collection\n",
        "        maximum: ee.Image corresponding to 95 percentil in sigma30 collection\n",
        "    Output:\n",
        "        ee.Image\n",
        "    '''\n",
        "    def inner(img):\n",
        "        img = ee.Image(img)\n",
        "        props = img.propertyNames()\n",
        "        img1 = img.where(img.select('sigma30').lt(minimum), minimum)\n",
        "        img1 = img1.select('sigma30').where(img1.select('sigma30').gt(maximum), maximum)\n",
        "        rSSM = img1.select('sigma30').subtract(minimum).divide(maximum.subtract(minimum)).rename('rSSM')\n",
        "        return img.select('VV').addBands(rSSM).copyProperties(img, props)\n",
        "    return inner\n",
        "\n",
        "\n",
        "def resampleImage(img):\n",
        "    '''\n",
        "    Description: resamples S1 image to lower resolution (90 m)\n",
        "    Input: \n",
        "        img: ee.Image\n",
        "    Output:\n",
        "        ee.Image\n",
        "    '''\n",
        "    img = ee.Image(img)\n",
        "    props = img.propertyNames()\n",
        "    return img.select('VV').reduceResolution('mean',\n",
        "                                             False,\n",
        "                                             102).reproject('EPSG:4326',\n",
        "                                                            None,\n",
        "                                                            90).copyProperties(img, props)\n",
        "                                                                            \n",
        "\n",
        "def pre_process(img):\n",
        "    '''\n",
        "    Description: preprocess images for sigma30 collection generation\n",
        "    Input: \n",
        "        img: ee.Image\n",
        "    Output:\n",
        "        ee.Image\n",
        "    '''\n",
        "    img = ee.Image(img)\n",
        "    properties = img.propertyNames()\n",
        "    resampled = ee.Image(gaussianFilter(ee.Image(toDB(img.select('VV')))))\n",
        "    angle = ee.Image(resampleAngle(img.select('angle'))).select('angle2').reproject('EPSG:4326', None, 90)\n",
        "    return ee.Image(resampled).addBands(angle).copyProperties(img, properties)\n",
        "\n",
        "\n",
        "def get_rssm(geometry):\n",
        "    '''\n",
        "    Description: Creates collection of rSSM \n",
        "    Input: \n",
        "        geometry: ee.Geometry\n",
        "    Output:\n",
        "        ee.ImageCollection\n",
        "    '''\n",
        "    coll = S1.filterDate(start, end).filterMetadata('instrumentMode', \"equals\", 'IW').filterBounds(geometry)\n",
        "    coll = coll.filterMetadata('orbitProperties_pass', 'equals', 'DESCENDING')\n",
        "    coll = coll.filter(ee.Filter.listContains('transmitterReceiverPolarisation', 'VV'))\n",
        "    coll = coll.select(['VV', 'angle']).map(force_time_end)\n",
        "    preColl = coll.map(pre_process)\n",
        "    LinearReducer = ee.Reducer.linearFit()\n",
        "    linear2 = ee.ImageCollection(preColl).select(['angle2', 'VV']).reduce(LinearReducer)\n",
        "    beta = linear2.select('scale')\n",
        "    sigma30 = preColl.map(angleCorrection2(beta))\n",
        "    percentiles = sigma30.reduce(ee.Reducer.percentile([5, 95], ['min', 'max']))\n",
        "    min = percentiles.select('sigma30_min')\n",
        "    max = percentiles.select('sigma30_max')\n",
        "    soilMoi = sigma30.map(rSSM(min, max))\n",
        "    return soilMoi\n",
        "\n",
        "\n",
        "def attach_chirps(img):\n",
        "    '''\n",
        "    Description: Aggregates CHIRPS rainfall between dates\n",
        "    Input: \n",
        "        img: ee.Image\n",
        "    Output:\n",
        "        ee.Image\n",
        "    '''\n",
        "    date0 = ee.Date(img.get('system:time_start'))\n",
        "    date1 = ee.Date(img.get('system:time_end'))\n",
        "    chirp = chirps.filterDate(date0, date1).sum()\n",
        "    return img.set('chirp', chirp)\n",
        "\n",
        "\n",
        "def cat_modis(img):\n",
        "    '''\n",
        "    Description: Concatenates MODIS inputs as a multiband image\n",
        "    Input: \n",
        "        img: ee.Image\n",
        "    Output:\n",
        "        ee.Image\n",
        "    '''\n",
        "    img = ee.Image(img)\n",
        "    props = img.propertyNames()\n",
        "    sr = img.select(['sur_refl_b01', 'sur_refl_b02', 'sur_refl_b03',\n",
        "                     'sur_refl_b04', 'sur_refl_b05', 'sur_refl_b06',\n",
        "                     'sur_refl_b07']).multiply(0.0001)\n",
        "    ndvi = sr.normalizedDifference(['sur_refl_b02', 'sur_refl_b01']).rename('NDVI')\n",
        "    lst = ee.Image(ee.List(img.get('lst')).get(0))\n",
        "    lst = lst.select(['LST_Day_1km', \"LST_Night_1km\", \"Emis_31\", \"Emis_32\"])\n",
        "    lst = lst.multiply(ee.Image.cat([ee.Image(0.02), ee.Image(0.02), ee.Image(0.002), ee.Image(0.002)]))\n",
        "    retrieve = sr.addBands(lst).addBands(ndvi).select(modis_bands)\n",
        "    return retrieve.copyProperties(img, props)\n",
        "\n",
        "\n",
        "def wrap(img):\n",
        "    '''\n",
        "    Description: retrieves CHIRPS image from properties\n",
        "    Input: \n",
        "        img: ee.Image\n",
        "    Output:\n",
        "        ee.Image\n",
        "    '''\n",
        "    return ee.Image(img.get('chirp'))\n",
        "\n",
        "\n",
        "def get_image(img):\n",
        "    '''\n",
        "    Description: Stacks all bands together for the predictor images\n",
        "    Input: \n",
        "        img: ee.Image\n",
        "    Output:\n",
        "        ee.Image\n",
        "    '''\n",
        "    img =  ee.Image(img)\n",
        "    smap = ee.ImageCollection.fromImages(ee.List(img.get('images')).slice(0,10)).toBands().rename(smap_bands)\n",
        "    chirp = ee.ImageCollection.fromImages(ee.List(img.get('images')).slice(0,10)).map(wrap).toBands().rename(chirps_bands)\n",
        "    modis = ee.Image(ee.List(img.get('modis')).get(0)).select(modis_bands)\n",
        "    sampleImg = img.addBands(modis).addBands(Merit).addBands([CLY, AWC, SOC]).addBands(smap).addBands(chirp).addBands(LUx).addBands(elevation)\n",
        "    return sampleImg\n",
        "\n",
        "\n",
        "def inner2(fea):\n",
        "    '''\n",
        "    Description: samples predictor image based on feature\n",
        "    Input: \n",
        "        fea: ee.Feature\n",
        "    Output:\n",
        "        ee.Feature\n",
        "    '''\n",
        "    def inner(img):\n",
        "        sampleImg = ee.Image(get_image(img))\n",
        "        container = ee.Feature(ee.FeatureCollection(sampleImg.sample(region=fea.geometry(),\n",
        "                                                                     scale=90,\n",
        "                                                                     dropNulls=False)).first())\n",
        "        container = container.setMulti({'date': ee.Date(img.get('system:time_start')).format('YYYY-MM-dd'),\n",
        "                                        'id': fea.get('ID'),\n",
        "                                        'site':fea.get('site')})\n",
        "        return container\n",
        "    return inner\n",
        "\n",
        "\n",
        "def combining_datasets(fea):\n",
        "    '''\n",
        "    Description: Combines collections based on feature\n",
        "    Input: \n",
        "        fea: ee.Feature\n",
        "    Output:\n",
        "        ee.ImageCollection\n",
        "    '''\n",
        "    s1_collection = get_rssm(fea.geometry())\n",
        "    filter = ee.Filter.And(ee.Filter.maxDifference(difference=35*1000*86400,\n",
        "                                                   leftField=timeField,\n",
        "                                                   rightField=timeField),\n",
        "                           ee.Filter.greaterThan(leftField=timeField,\n",
        "                                                 rightField=timeField))\n",
        "    joined = ee.Join.saveAll(matchesKey='images',\n",
        "                             measureKey='SMAP',\n",
        "                             ordering=timeField,\n",
        "                             ascending=False).apply(primary=s1_collection,\n",
        "                                                    secondary=SMAP,\n",
        "                                                    condition=filter)\n",
        "    filter2 = ee.Filter.And(ee.Filter.greaterThanOrEquals(leftField=timeField,\n",
        "                                                          rightField=timeField),\n",
        "                            ee.Filter.lessThanOrEquals(leftField='system:time_end',\n",
        "                                                       rightField='system:time_end'))\n",
        "    joined = ee.Join.saveAll(matchesKey='modis',\n",
        "                             ordering=timeField,\n",
        "                             ascending=True).apply(primary=joined,\n",
        "                                                   secondary=Modis,\n",
        "                                                   condition=filter2)\n",
        "    return joined\n",
        "\n",
        "\n",
        "def to_drive(fea):\n",
        "    '''\n",
        "    Description: Samples Collection based on feature\n",
        "    Input: \n",
        "        fea: ee.Feature\n",
        "    Output:\n",
        "        ee.FeatureCollection\n",
        "    '''\n",
        "    joined = combining_datasets(fea)\n",
        "    retrieve = joined.map(inner2(fea), True)\n",
        "    return retrieve\n",
        "\n",
        "\n",
        "def get_collection(fea):\n",
        "    '''\n",
        "    Description: Creates predictor ImageCollection based on feature\n",
        "    Input: \n",
        "        fea: ee.Feature\n",
        "    Output:\n",
        "        ee.ImageCollection\n",
        "    '''    \n",
        "    joined = combining_datasets(fea)\n",
        "    collection = joined.map(get_image)\n",
        "    return collection\n",
        "\n",
        "\n",
        "# Using entire S1 image leads to memory errors, but this is the function to get geometry from images\n",
        "def get_geometry(img):\n",
        "    '''\n",
        "    Description: Returns the countour of Sentinel images as Feature\n",
        "    Input: \n",
        "        img: ee.Image\n",
        "    Output:\n",
        "        ee.Feature\n",
        "    '''\n",
        "    contour = ee.Geometry(ee.Image(img).get('system:footprint')).coordinates()\n",
        "    return ee.Feature(ee.Geometry.Polygon(contour))\n",
        "\n",
        "\n",
        "def to_yyyymmdd(i):\n",
        "    '''\n",
        "    Description: Formats dates into %Y-%m-%d\n",
        "    Input: \n",
        "        i: string or ee.Date\n",
        "    Output:\n",
        "        string\n",
        "    '''\n",
        "    return ee.Date(i).format('YYYY-MM-dd')\n"
      ],
      "execution_count": 16,
      "outputs": []
    },
    {
      "cell_type": "markdown",
      "source": [
        "## Parameters definition"
      ],
      "metadata": {
        "id": "7yy3lcS7vWfU"
      }
    },
    {
      "cell_type": "code",
      "metadata": {
        "id": "6gIcL9OFKvH9"
      },
      "source": [
        "start = '2016-01-01'\n",
        "end = '2021-05-01'\n",
        "timeField = 'system:time_start'\n",
        "\n",
        "smap_bands = ['smap1', 'ssmap1', 'smap2', 'ssmap2', 'smap3', 'ssmap3',\n",
        "              'smap4', 'ssmap4', 'smap5', 'ssmap5', 'smap6', 'ssmap6',\n",
        "              'smap7', 'ssmap7', 'smap8', 'ssmap8', 'smap9', 'ssmap9',\n",
        "              'smap10', 'ssmap10']\n",
        "\n",
        "chirps_bands = ['chirps1', 'chirps2', 'chirps3', 'chirps4', 'chirps5', \n",
        "                'chirps6', 'chirps7', 'chirps8', 'chirps9', 'chirps10']\n",
        "\n",
        "modis_bands = ['LST_Day_1km', \"LST_Night_1km\", \"Emis_31\", \"Emis_32\",\n",
        "               'NDVI', 'sur_refl_b01', 'sur_refl_b02', 'sur_refl_b03',\n",
        "               'sur_refl_b04', 'sur_refl_b05', 'sur_refl_b06', 'sur_refl_b07']\n",
        "\n",
        "timeFilter = ee.Filter.equals(leftField=timeField,\n",
        "                              rightField=timeField)\n",
        "\n",
        "saveAllJoin = ee.Join.saveAll(matchesKey='lst',\n",
        "                              ordering=timeField,\n",
        "                              ascending=True)"
      ],
      "execution_count": 4,
      "outputs": []
    },
    {
      "cell_type": "markdown",
      "source": [
        "## Loading of Inputs"
      ],
      "metadata": {
        "id": "SelsZDpQvrxm"
      }
    },
    {
      "cell_type": "code",
      "metadata": {
        "id": "Xkamfe_fYTFL"
      },
      "source": [
        "S1 = ee.ImageCollection('COPERNICUS/S1_GRD_FLOAT')\n",
        "SMAP = ee.ImageCollection(\"NASA_USDA/HSL/SMAP10KM_soil_moisture\").select(['ssm', 'susm']).filterDate('2000-01-01', '2021-11-29')\n",
        "AWC = ee.Image('CSIRO/SLGA/AWC').select(['AWC_000_005_EV', 'AWC_005_015_EV', 'AWC_015_030_EV', 'AWC_030_060_EV']).rename(['AWC1', 'AWC2', 'AWC3', 'AWC4'])\n",
        "CLY = ee.Image('CSIRO/SLGA/CLY').select(['CLY_000_005_EV', 'CLY_005_015_EV', 'CLY_015_030_EV', 'CLY_030_060_EV']).rename(['CLY1', 'CLY2', 'CLY3', 'CLY4'])\n",
        "SOC = ee.Image('CSIRO/SLGA/SOC').select(['SOC_000_005_EV', 'SOC_005_015_EV', 'SOC_015_030_EV', 'SOC_030_060_EV']).rename(['SOC1', 'SOC2', 'SOC3', 'SOC4'])\n",
        "Merit = ee.Image(\"MERIT/Hydro/v1_0_1\").select(['upa', 'hnd'])\n",
        "LST = ee.ImageCollection('MODIS/006/MOD11A2')\n",
        "SR = ee.ImageCollection('MODIS/006/MOD09A1')\n",
        "chirps = ee.ImageCollection(\"UCSB-CHG/CHIRPS/DAILY\")\n",
        "LU = ee.Image(\"users/ignaciofuentessanroman/AU/clum_50m1218m\")\n",
        "MCD = ee.ImageCollection(\"MODIS/006/MCD12Q1\").select('LC_Type1').filterDate('2017-01-01', '2021-01-01').reduce(ee.Reducer.mode())\n",
        "elevation = ee.Image(\"CGIAR/SRTM90_V4\")\n",
        "slope = ee.Terrain.slope(elevation).rename('slope')\n",
        "aspect = ee.Terrain.aspect(elevation).rename('aspect')\n",
        "elevation = elevation.addBands([slope, aspect])"
      ],
      "execution_count": 5,
      "outputs": []
    },
    {
      "cell_type": "markdown",
      "metadata": {
        "id": "FaePAUuyP3n-"
      },
      "source": [
        "## Land cover standardisation"
      ]
    },
    {
      "cell_type": "code",
      "metadata": {
        "id": "7pSqCOpJkDgt"
      },
      "source": [
        "LUx = LU.where(LU.lte(210), 1) #pasture\n",
        "LUx = LUx.where(LU.gt(210).And(LU.lte(314)), 2) # forest\n",
        "LUx = LUx.where(LU.gt(319).And(LU.lte(325)), 1)\n",
        "LUx = LUx.where(LU.gte(330).And(LU.lte(360)), 3) # agri\n",
        "LUx = LUx.where(LU.gt(359).And(LU.lte(400)), 1) # \n",
        "LUx = LUx.where(LU.gte(410).And(LU.lt(420)), 4) # irri\n",
        "LUx = LUx.where(LU.gte(420).And(LU.lt(430)), 4) # \n",
        "LUx = LUx.where(LU.gte(430).And(LU.lte(465)), 4)\n",
        "LUx = LUx.where(LU.gte(510).And(LU.lt(600)), 1) \n",
        "LUx = LUx.where(LU.gt(600).And(LU.lt(650)), 1)\n",
        "LUx = LUx.where(LU.gte(650), 1)\n",
        "LUx = LUx.where(LUx.eq(1).And(MCD.lte(5)), 2)\n",
        "LUx = LUx.where(LUx.eq(1).And(MCD.gte(5)).And(MCD.lte(6)), 5)\n",
        "LUx = LUx.where(LUx.eq(1).And(MCD.gte(7)).And(MCD.lte(9)), 6)\n",
        "LUx = LUx.rename('LU')"
      ],
      "execution_count": 6,
      "outputs": []
    },
    {
      "cell_type": "code",
      "metadata": {
        "id": "8GB-CvMj9ZKX"
      },
      "source": [
        "irri = LUx.eq(4)\n",
        "past = LUx.eq(1)\n",
        "agri = LUx.eq(3)\n",
        "fore = LUx.eq(2)\n",
        "sava = LUx.gte(5)\n",
        "LUx = ee.Image.cat([irri.rename('irri'), past.rename('past'), agri.rename('agri'),\n",
        "                    fore.rename('fore'), sava.rename('sava')])"
      ],
      "execution_count": 7,
      "outputs": []
    },
    {
      "cell_type": "markdown",
      "metadata": {
        "id": "RdUkHdueGF-a"
      },
      "source": [
        "## Parameters to change for image selection"
      ]
    },
    {
      "cell_type": "code",
      "metadata": {
        "id": "LD1ahJhLa0cg"
      },
      "source": [
        "geo = ee.Geometry.Point([149.2659, -30.0996])\n",
        "date = '2019-12-15'"
      ],
      "execution_count": 8,
      "outputs": []
    },
    {
      "cell_type": "markdown",
      "source": [
        "## Getting Collection of predictor images based on geometry"
      ],
      "metadata": {
        "id": "bhE0uYy84CMp"
      }
    },
    {
      "cell_type": "code",
      "metadata": {
        "id": "mVv_0lzobE4Q"
      },
      "source": [
        "SMAP = SMAP.map(attach_chirps)\n",
        "Modis = saveAllJoin.apply(SR, LST, timeFilter)\n",
        "Modis = ee.ImageCollection(Modis.map(cat_modis))\n",
        "collection = get_collection(ee.Feature(geo))"
      ],
      "execution_count": 9,
      "outputs": []
    },
    {
      "cell_type": "code",
      "source": [
        "print(collection.aggregate_array('system:time_start').map(to_yyyymmdd).getInfo())"
      ],
      "metadata": {
        "colab": {
          "base_uri": "https://localhost:8080/"
        },
        "id": "6VQFy95n4QTC",
        "outputId": "62938360-c614-4960-87ce-7c080bbb598d"
      },
      "execution_count": 18,
      "outputs": [
        {
          "output_type": "stream",
          "name": "stdout",
          "text": [
            "['2016-01-07', '2016-01-19', '2016-01-31', '2016-01-31', '2016-02-12', '2016-02-24', '2016-03-07', '2016-03-19', '2016-03-31', '2016-04-12', '2016-04-24', '2016-05-06', '2016-05-18', '2016-05-30', '2016-06-11', '2016-07-05', '2016-07-17', '2016-07-29', '2016-08-10', '2016-08-22', '2016-09-03', '2016-09-15', '2016-09-27', '2016-10-09', '2016-10-21', '2016-11-02', '2016-11-14', '2016-11-26', '2016-12-08', '2016-12-20', '2017-01-01', '2017-01-13', '2017-01-25', '2017-02-06', '2017-02-18', '2017-03-02', '2017-03-14', '2017-03-26', '2017-04-07', '2017-04-19', '2017-05-01', '2017-05-13', '2017-05-25', '2017-06-06', '2017-06-18', '2017-06-30', '2017-07-12', '2017-07-24', '2017-08-05', '2017-08-17', '2017-08-29', '2017-09-10', '2017-09-22', '2017-10-04', '2017-10-16', '2017-10-28', '2017-11-09', '2017-11-21', '2017-12-03', '2017-12-15', '2017-12-27', '2018-01-08', '2018-01-20', '2018-02-01', '2018-02-13', '2018-02-25', '2018-03-09', '2018-03-21', '2018-04-02', '2018-04-14', '2018-04-26', '2018-05-08', '2018-05-20', '2018-06-01', '2018-06-13', '2018-06-25', '2018-07-19', '2018-07-31', '2018-08-12', '2018-08-24', '2018-09-05', '2018-09-17', '2018-09-29', '2018-10-11', '2018-10-23', '2018-11-04', '2018-11-16', '2018-11-28', '2018-12-10', '2018-12-22', '2019-01-03', '2019-01-15', '2019-01-27', '2019-02-08', '2019-02-20', '2019-03-04', '2019-03-16', '2019-03-28', '2019-04-09', '2019-04-21', '2019-05-03', '2019-05-15', '2019-05-27', '2019-06-08', '2019-06-20', '2019-07-02', '2019-07-14', '2019-07-26', '2019-08-07', '2019-08-19', '2019-09-12', '2019-09-24', '2019-10-06', '2019-10-18', '2019-10-30', '2019-11-11', '2019-11-23', '2019-12-05', '2019-12-17', '2019-12-29', '2020-01-10', '2020-01-22', '2020-02-03', '2020-02-15', '2020-02-27', '2020-03-10', '2020-03-22', '2020-04-03', '2020-04-15', '2020-04-27', '2020-05-09', '2020-05-21', '2020-06-02', '2020-06-14', '2020-06-26', '2020-07-08', '2020-07-20', '2020-08-01', '2020-08-13', '2020-08-25', '2020-09-06', '2020-09-18', '2020-09-30', '2020-10-12', '2020-10-24', '2020-11-05', '2020-11-17', '2020-11-29', '2020-12-11', '2020-12-23', '2021-01-04', '2021-01-16', '2021-01-28', '2021-02-09', '2021-02-21', '2021-03-05', '2021-03-17', '2021-03-29', '2021-04-10', '2021-04-22']\n"
          ]
        }
      ]
    },
    {
      "cell_type": "markdown",
      "metadata": {
        "id": "w9QUWrapPxY3"
      },
      "source": [
        "## Setting band names"
      ]
    },
    {
      "cell_type": "code",
      "metadata": {
        "id": "NOHvyviUN6H1"
      },
      "source": [
        "ixs = range(1, 11)\n",
        "smap_cols = ['smap{}'.format(str(n)) for n in ixs]\n",
        "ssmap_cols = ['ssmap{}'.format(str(n)) for n in ixs]\n",
        "chirps_cols = ['chirps{}'.format(str(n)) for n in ixs]\n",
        "\n",
        "lstm_cols = smap_cols+chirps_cols+ssmap_cols\n",
        "\n",
        "#removed hnd, upa, emissivity\n",
        "mlp_cols = ['VV', 'rSSM',\n",
        "            'AWC1', 'AWC2', 'AWC3', 'AWC4',\n",
        "            'CLY1', 'CLY2', 'CLY3', 'CLY4',\n",
        "            'SOC1', 'SOC2', 'SOC3', 'SOC4',\n",
        "            'LST_Day_1km', 'LST_Night_1km',\n",
        "            'sur_refl_b01', 'sur_refl_b02', 'sur_refl_b03',\n",
        "            'sur_refl_b04', 'sur_refl_b05', 'sur_refl_b06', 'sur_refl_b07',\n",
        "            'NDVI', 'irri', 'past', 'agri', 'fore', 'sava'] \n",
        "\n",
        "bands = lstm_cols + mlp_cols"
      ],
      "execution_count": 10,
      "outputs": []
    },
    {
      "cell_type": "markdown",
      "metadata": {
        "id": "Sw1WZpmLGV0T"
      },
      "source": [
        "## Input image"
      ]
    },
    {
      "cell_type": "code",
      "metadata": {
        "id": "JosnZkgoGTPt"
      },
      "source": [
        "img = ee.Image(collection.filterDate(date, '2022-01-01').first()).select(bands)"
      ],
      "execution_count": 11,
      "outputs": []
    },
    {
      "cell_type": "markdown",
      "source": [
        "## Plotting some input bands and geometry"
      ],
      "metadata": {
        "id": "ZxGkOJCVv8f6"
      }
    },
    {
      "cell_type": "code",
      "metadata": {
        "colab": {
          "base_uri": "https://localhost:8080/",
          "height": 1000
        },
        "id": "84ns5BOnZBw8",
        "outputId": "d79cc595-db7b-467b-ca95-41d305ebe8cd"
      },
      "source": [
        "map0 = ee.Image(img).select('VV').getMapId({'min':-20, 'max':-5, })\n",
        "mapid = ee.Image(img).select('rSSM').getMapId({'min':0, 'max':1, 'palette':'FF0000, FFFF00, 00FF00, 00FFFF, 0000FF'})\n",
        "map = folium.Map(location=ee.Feature(geo).geometry().coordinates().getInfo()[::-1], zoom_start=10)\n",
        "folium.TileLayer(\n",
        "    tiles = 'https://server.arcgisonline.com/ArcGIS/rest/services/World_Imagery/MapServer/tile/{z}/{y}/{x}',\n",
        "    attr='Map Data &copy; <a href=\"https://earthengine.google.com/\">Google Earth Engine</a>',\n",
        "    overlay=True,\n",
        "    name='satellite',\n",
        "  ).add_to(map)\n",
        "folium.TileLayer(\n",
        "    tiles=map0['tile_fetcher'].url_format,\n",
        "    attr='Map Data &copy; <a href=\"https://earthengine.google.com/\">Google Earth Engine</a>',\n",
        "    overlay=True,\n",
        "    name='VV',\n",
        "  ).add_to(map)\n",
        "folium.TileLayer(\n",
        "    tiles=mapid['tile_fetcher'].url_format,\n",
        "    attr='Map Data &copy; <a href=\"https://earthengine.google.com/\">Google Earth Engine</a>',\n",
        "    overlay=True,\n",
        "    name='rssm',\n",
        "  ).add_to(map)\n",
        "map.add_child(folium.LayerControl())\n",
        "map"
      ],
      "execution_count": 12,
      "outputs": [
        {
          "output_type": "execute_result",
          "data": {
            "text/html": [
              "<div style=\"width:100%;\"><div style=\"position:relative;width:100%;height:0;padding-bottom:60%;\"><span style=\"color:#565656\">Make this Notebook Trusted to load map: File -> Trust Notebook</span><iframe src=\"about:blank\" style=\"position:absolute;width:100%;height:100%;left:0;top:0;border:none !important;\" data-html=%3C%21DOCTYPE%20html%3E%0A%3Chead%3E%20%20%20%20%0A%20%20%20%20%3Cmeta%20http-equiv%3D%22content-type%22%20content%3D%22text/html%3B%20charset%3DUTF-8%22%20/%3E%0A%20%20%20%20%3Cscript%3EL_PREFER_CANVAS%3Dfalse%3B%20L_NO_TOUCH%3Dfalse%3B%20L_DISABLE_3D%3Dfalse%3B%3C/script%3E%0A%20%20%20%20%3Cscript%20src%3D%22https%3A//cdn.jsdelivr.net/npm/leaflet%401.4.0/dist/leaflet.js%22%3E%3C/script%3E%0A%20%20%20%20%3Cscript%20src%3D%22https%3A//code.jquery.com/jquery-1.12.4.min.js%22%3E%3C/script%3E%0A%20%20%20%20%3Cscript%20src%3D%22https%3A//maxcdn.bootstrapcdn.com/bootstrap/3.2.0/js/bootstrap.min.js%22%3E%3C/script%3E%0A%20%20%20%20%3Cscript%20src%3D%22https%3A//cdnjs.cloudflare.com/ajax/libs/Leaflet.awesome-markers/2.0.2/leaflet.awesome-markers.js%22%3E%3C/script%3E%0A%20%20%20%20%3Clink%20rel%3D%22stylesheet%22%20href%3D%22https%3A//cdn.jsdelivr.net/npm/leaflet%401.4.0/dist/leaflet.css%22/%3E%0A%20%20%20%20%3Clink%20rel%3D%22stylesheet%22%20href%3D%22https%3A//maxcdn.bootstrapcdn.com/bootstrap/3.2.0/css/bootstrap.min.css%22/%3E%0A%20%20%20%20%3Clink%20rel%3D%22stylesheet%22%20href%3D%22https%3A//maxcdn.bootstrapcdn.com/bootstrap/3.2.0/css/bootstrap-theme.min.css%22/%3E%0A%20%20%20%20%3Clink%20rel%3D%22stylesheet%22%20href%3D%22https%3A//maxcdn.bootstrapcdn.com/font-awesome/4.6.3/css/font-awesome.min.css%22/%3E%0A%20%20%20%20%3Clink%20rel%3D%22stylesheet%22%20href%3D%22https%3A//cdnjs.cloudflare.com/ajax/libs/Leaflet.awesome-markers/2.0.2/leaflet.awesome-markers.css%22/%3E%0A%20%20%20%20%3Clink%20rel%3D%22stylesheet%22%20href%3D%22https%3A//rawcdn.githack.com/python-visualization/folium/master/folium/templates/leaflet.awesome.rotate.css%22/%3E%0A%20%20%20%20%3Cstyle%3Ehtml%2C%20body%20%7Bwidth%3A%20100%25%3Bheight%3A%20100%25%3Bmargin%3A%200%3Bpadding%3A%200%3B%7D%3C/style%3E%0A%20%20%20%20%3Cstyle%3E%23map%20%7Bposition%3Aabsolute%3Btop%3A0%3Bbottom%3A0%3Bright%3A0%3Bleft%3A0%3B%7D%3C/style%3E%0A%20%20%20%20%0A%20%20%20%20%3Cmeta%20name%3D%22viewport%22%20content%3D%22width%3Ddevice-width%2C%0A%20%20%20%20%20%20%20%20initial-scale%3D1.0%2C%20maximum-scale%3D1.0%2C%20user-scalable%3Dno%22%20/%3E%0A%20%20%20%20%3Cstyle%3E%23map_3384731d5f8a4d51a0ca354f2bdbe977%20%7B%0A%20%20%20%20%20%20%20%20position%3A%20relative%3B%0A%20%20%20%20%20%20%20%20width%3A%20100.0%25%3B%0A%20%20%20%20%20%20%20%20height%3A%20100.0%25%3B%0A%20%20%20%20%20%20%20%20left%3A%200.0%25%3B%0A%20%20%20%20%20%20%20%20top%3A%200.0%25%3B%0A%20%20%20%20%20%20%20%20%7D%0A%20%20%20%20%3C/style%3E%0A%3C/head%3E%0A%3Cbody%3E%20%20%20%20%0A%20%20%20%20%0A%20%20%20%20%3Cdiv%20class%3D%22folium-map%22%20id%3D%22map_3384731d5f8a4d51a0ca354f2bdbe977%22%20%3E%3C/div%3E%0A%3C/body%3E%0A%3Cscript%3E%20%20%20%20%0A%20%20%20%20%0A%20%20%20%20%0A%20%20%20%20%20%20%20%20var%20bounds%20%3D%20null%3B%0A%20%20%20%20%0A%0A%20%20%20%20var%20map_3384731d5f8a4d51a0ca354f2bdbe977%20%3D%20L.map%28%0A%20%20%20%20%20%20%20%20%27map_3384731d5f8a4d51a0ca354f2bdbe977%27%2C%20%7B%0A%20%20%20%20%20%20%20%20center%3A%20%5B-30.0996%2C%20149.2659%5D%2C%0A%20%20%20%20%20%20%20%20zoom%3A%2010%2C%0A%20%20%20%20%20%20%20%20maxBounds%3A%20bounds%2C%0A%20%20%20%20%20%20%20%20layers%3A%20%5B%5D%2C%0A%20%20%20%20%20%20%20%20worldCopyJump%3A%20false%2C%0A%20%20%20%20%20%20%20%20crs%3A%20L.CRS.EPSG3857%2C%0A%20%20%20%20%20%20%20%20zoomControl%3A%20true%2C%0A%20%20%20%20%20%20%20%20%7D%29%3B%0A%0A%0A%20%20%20%20%0A%20%20%20%20var%20tile_layer_cbc11f82b3b04707ac4d8a3048c3b944%20%3D%20L.tileLayer%28%0A%20%20%20%20%20%20%20%20%27https%3A//%7Bs%7D.tile.openstreetmap.org/%7Bz%7D/%7Bx%7D/%7By%7D.png%27%2C%0A%20%20%20%20%20%20%20%20%7B%0A%20%20%20%20%20%20%20%20%22attribution%22%3A%20null%2C%0A%20%20%20%20%20%20%20%20%22detectRetina%22%3A%20false%2C%0A%20%20%20%20%20%20%20%20%22maxNativeZoom%22%3A%2018%2C%0A%20%20%20%20%20%20%20%20%22maxZoom%22%3A%2018%2C%0A%20%20%20%20%20%20%20%20%22minZoom%22%3A%200%2C%0A%20%20%20%20%20%20%20%20%22noWrap%22%3A%20false%2C%0A%20%20%20%20%20%20%20%20%22opacity%22%3A%201%2C%0A%20%20%20%20%20%20%20%20%22subdomains%22%3A%20%22abc%22%2C%0A%20%20%20%20%20%20%20%20%22tms%22%3A%20false%0A%7D%29.addTo%28map_3384731d5f8a4d51a0ca354f2bdbe977%29%3B%0A%20%20%20%20var%20tile_layer_8fe26990634046cbbe0d8aa808e07197%20%3D%20L.tileLayer%28%0A%20%20%20%20%20%20%20%20%27https%3A//server.arcgisonline.com/ArcGIS/rest/services/World_Imagery/MapServer/tile/%7Bz%7D/%7By%7D/%7Bx%7D%27%2C%0A%20%20%20%20%20%20%20%20%7B%0A%20%20%20%20%20%20%20%20%22attribution%22%3A%20%22Map%20Data%20%26copy%3B%20%3Ca%20href%3D%5C%22https%3A//earthengine.google.com/%5C%22%3EGoogle%20Earth%20Engine%3C/a%3E%22%2C%0A%20%20%20%20%20%20%20%20%22detectRetina%22%3A%20false%2C%0A%20%20%20%20%20%20%20%20%22maxNativeZoom%22%3A%2018%2C%0A%20%20%20%20%20%20%20%20%22maxZoom%22%3A%2018%2C%0A%20%20%20%20%20%20%20%20%22minZoom%22%3A%200%2C%0A%20%20%20%20%20%20%20%20%22noWrap%22%3A%20false%2C%0A%20%20%20%20%20%20%20%20%22opacity%22%3A%201%2C%0A%20%20%20%20%20%20%20%20%22subdomains%22%3A%20%22abc%22%2C%0A%20%20%20%20%20%20%20%20%22tms%22%3A%20false%0A%7D%29.addTo%28map_3384731d5f8a4d51a0ca354f2bdbe977%29%3B%0A%20%20%20%20var%20tile_layer_9d25874adae64e09a79e8815dc8f7e07%20%3D%20L.tileLayer%28%0A%20%20%20%20%20%20%20%20%27https%3A//earthengine.googleapis.com/v1alpha/projects/earthengine-legacy/maps/ff1ba3846dbdee6ab59fbba7a43ca3d7-b364020dc99e1bee2a1589b086455091/tiles/%7Bz%7D/%7Bx%7D/%7By%7D%27%2C%0A%20%20%20%20%20%20%20%20%7B%0A%20%20%20%20%20%20%20%20%22attribution%22%3A%20%22Map%20Data%20%26copy%3B%20%3Ca%20href%3D%5C%22https%3A//earthengine.google.com/%5C%22%3EGoogle%20Earth%20Engine%3C/a%3E%22%2C%0A%20%20%20%20%20%20%20%20%22detectRetina%22%3A%20false%2C%0A%20%20%20%20%20%20%20%20%22maxNativeZoom%22%3A%2018%2C%0A%20%20%20%20%20%20%20%20%22maxZoom%22%3A%2018%2C%0A%20%20%20%20%20%20%20%20%22minZoom%22%3A%200%2C%0A%20%20%20%20%20%20%20%20%22noWrap%22%3A%20false%2C%0A%20%20%20%20%20%20%20%20%22opacity%22%3A%201%2C%0A%20%20%20%20%20%20%20%20%22subdomains%22%3A%20%22abc%22%2C%0A%20%20%20%20%20%20%20%20%22tms%22%3A%20false%0A%7D%29.addTo%28map_3384731d5f8a4d51a0ca354f2bdbe977%29%3B%0A%20%20%20%20var%20tile_layer_dd4db131ff2646db809d22436bab655e%20%3D%20L.tileLayer%28%0A%20%20%20%20%20%20%20%20%27https%3A//earthengine.googleapis.com/v1alpha/projects/earthengine-legacy/maps/8887b2c1ce65633a96ded9b38fe8f9ba-12eaa33c195c668e7aa809f198b4ccc4/tiles/%7Bz%7D/%7Bx%7D/%7By%7D%27%2C%0A%20%20%20%20%20%20%20%20%7B%0A%20%20%20%20%20%20%20%20%22attribution%22%3A%20%22Map%20Data%20%26copy%3B%20%3Ca%20href%3D%5C%22https%3A//earthengine.google.com/%5C%22%3EGoogle%20Earth%20Engine%3C/a%3E%22%2C%0A%20%20%20%20%20%20%20%20%22detectRetina%22%3A%20false%2C%0A%20%20%20%20%20%20%20%20%22maxNativeZoom%22%3A%2018%2C%0A%20%20%20%20%20%20%20%20%22maxZoom%22%3A%2018%2C%0A%20%20%20%20%20%20%20%20%22minZoom%22%3A%200%2C%0A%20%20%20%20%20%20%20%20%22noWrap%22%3A%20false%2C%0A%20%20%20%20%20%20%20%20%22opacity%22%3A%201%2C%0A%20%20%20%20%20%20%20%20%22subdomains%22%3A%20%22abc%22%2C%0A%20%20%20%20%20%20%20%20%22tms%22%3A%20false%0A%7D%29.addTo%28map_3384731d5f8a4d51a0ca354f2bdbe977%29%3B%0A%20%20%20%20%0A%20%20%20%20%20%20%20%20%20%20%20%20var%20layer_control_fe78f39f18204ece8446218435d0c27f%20%3D%20%7B%0A%20%20%20%20%20%20%20%20%20%20%20%20%20%20%20%20base_layers%20%3A%20%7B%20%22openstreetmap%22%20%3A%20tile_layer_cbc11f82b3b04707ac4d8a3048c3b944%2C%20%7D%2C%0A%20%20%20%20%20%20%20%20%20%20%20%20%20%20%20%20overlays%20%3A%20%7B%20%22satellite%22%20%3A%20tile_layer_8fe26990634046cbbe0d8aa808e07197%2C%22VV%22%20%3A%20tile_layer_9d25874adae64e09a79e8815dc8f7e07%2C%22rssm%22%20%3A%20tile_layer_dd4db131ff2646db809d22436bab655e%2C%20%7D%0A%20%20%20%20%20%20%20%20%20%20%20%20%20%20%20%20%7D%3B%0A%20%20%20%20%20%20%20%20%20%20%20%20L.control.layers%28%0A%20%20%20%20%20%20%20%20%20%20%20%20%20%20%20%20layer_control_fe78f39f18204ece8446218435d0c27f.base_layers%2C%0A%20%20%20%20%20%20%20%20%20%20%20%20%20%20%20%20layer_control_fe78f39f18204ece8446218435d0c27f.overlays%2C%0A%20%20%20%20%20%20%20%20%20%20%20%20%20%20%20%20%7Bposition%3A%20%27topright%27%2C%0A%20%20%20%20%20%20%20%20%20%20%20%20%20%20%20%20%20collapsed%3A%20true%2C%0A%20%20%20%20%20%20%20%20%20%20%20%20%20%20%20%20%20autoZIndex%3A%20true%0A%20%20%20%20%20%20%20%20%20%20%20%20%20%20%20%20%7D%29.addTo%28map_3384731d5f8a4d51a0ca354f2bdbe977%29%3B%0A%20%20%20%20%20%20%20%20%20%20%20%20%0A%20%20%20%20%20%20%20%20%0A%3C/script%3E onload=\"this.contentDocument.open();this.contentDocument.write(    decodeURIComponent(this.getAttribute('data-html')));this.contentDocument.close();\" allowfullscreen webkitallowfullscreen mozallowfullscreen></iframe></div></div>"
            ],
            "text/plain": [
              "<folium.folium.Map at 0x7f52b7363a10>"
            ]
          },
          "metadata": {},
          "execution_count": 12
        }
      ]
    },
    {
      "cell_type": "code",
      "metadata": {
        "colab": {
          "base_uri": "https://localhost:8080/",
          "height": 1000
        },
        "id": "XipcsP3IVP_c",
        "outputId": "03dbfc30-8eea-4f60-d343-94caeb168152"
      },
      "source": [
        "mapid = ee.Feature(get_geometry(img)).getMapId()\n",
        "map = folium.Map(location=ee.Feature(geo).geometry().coordinates().getInfo()[::-1], zoom_start=10)\n",
        "folium.TileLayer(\n",
        "    tiles = 'https://server.arcgisonline.com/ArcGIS/rest/services/World_Imagery/MapServer/tile/{z}/{y}/{x}',\n",
        "    attr='Map Data &copy; <a href=\"https://earthengine.google.com/\">Google Earth Engine</a>',\n",
        "    overlay=True,\n",
        "    name='satellite',\n",
        "  ).add_to(map)\n",
        "folium.TileLayer(\n",
        "    tiles=mapid['tile_fetcher'].url_format,\n",
        "    attr='Map Data &copy; <a href=\"https://earthengine.google.com/\">Google Earth Engine</a>',\n",
        "    overlay=True,\n",
        "    name='geometry',\n",
        "  ).add_to(map)\n",
        "map.add_child(folium.LayerControl())\n",
        "map"
      ],
      "execution_count": 15,
      "outputs": [
        {
          "output_type": "execute_result",
          "data": {
            "text/html": [
              "<div style=\"width:100%;\"><div style=\"position:relative;width:100%;height:0;padding-bottom:60%;\"><span style=\"color:#565656\">Make this Notebook Trusted to load map: File -> Trust Notebook</span><iframe src=\"about:blank\" style=\"position:absolute;width:100%;height:100%;left:0;top:0;border:none !important;\" data-html=%3C%21DOCTYPE%20html%3E%0A%3Chead%3E%20%20%20%20%0A%20%20%20%20%3Cmeta%20http-equiv%3D%22content-type%22%20content%3D%22text/html%3B%20charset%3DUTF-8%22%20/%3E%0A%20%20%20%20%3Cscript%3EL_PREFER_CANVAS%3Dfalse%3B%20L_NO_TOUCH%3Dfalse%3B%20L_DISABLE_3D%3Dfalse%3B%3C/script%3E%0A%20%20%20%20%3Cscript%20src%3D%22https%3A//cdn.jsdelivr.net/npm/leaflet%401.4.0/dist/leaflet.js%22%3E%3C/script%3E%0A%20%20%20%20%3Cscript%20src%3D%22https%3A//code.jquery.com/jquery-1.12.4.min.js%22%3E%3C/script%3E%0A%20%20%20%20%3Cscript%20src%3D%22https%3A//maxcdn.bootstrapcdn.com/bootstrap/3.2.0/js/bootstrap.min.js%22%3E%3C/script%3E%0A%20%20%20%20%3Cscript%20src%3D%22https%3A//cdnjs.cloudflare.com/ajax/libs/Leaflet.awesome-markers/2.0.2/leaflet.awesome-markers.js%22%3E%3C/script%3E%0A%20%20%20%20%3Clink%20rel%3D%22stylesheet%22%20href%3D%22https%3A//cdn.jsdelivr.net/npm/leaflet%401.4.0/dist/leaflet.css%22/%3E%0A%20%20%20%20%3Clink%20rel%3D%22stylesheet%22%20href%3D%22https%3A//maxcdn.bootstrapcdn.com/bootstrap/3.2.0/css/bootstrap.min.css%22/%3E%0A%20%20%20%20%3Clink%20rel%3D%22stylesheet%22%20href%3D%22https%3A//maxcdn.bootstrapcdn.com/bootstrap/3.2.0/css/bootstrap-theme.min.css%22/%3E%0A%20%20%20%20%3Clink%20rel%3D%22stylesheet%22%20href%3D%22https%3A//maxcdn.bootstrapcdn.com/font-awesome/4.6.3/css/font-awesome.min.css%22/%3E%0A%20%20%20%20%3Clink%20rel%3D%22stylesheet%22%20href%3D%22https%3A//cdnjs.cloudflare.com/ajax/libs/Leaflet.awesome-markers/2.0.2/leaflet.awesome-markers.css%22/%3E%0A%20%20%20%20%3Clink%20rel%3D%22stylesheet%22%20href%3D%22https%3A//rawcdn.githack.com/python-visualization/folium/master/folium/templates/leaflet.awesome.rotate.css%22/%3E%0A%20%20%20%20%3Cstyle%3Ehtml%2C%20body%20%7Bwidth%3A%20100%25%3Bheight%3A%20100%25%3Bmargin%3A%200%3Bpadding%3A%200%3B%7D%3C/style%3E%0A%20%20%20%20%3Cstyle%3E%23map%20%7Bposition%3Aabsolute%3Btop%3A0%3Bbottom%3A0%3Bright%3A0%3Bleft%3A0%3B%7D%3C/style%3E%0A%20%20%20%20%0A%20%20%20%20%3Cmeta%20name%3D%22viewport%22%20content%3D%22width%3Ddevice-width%2C%0A%20%20%20%20%20%20%20%20initial-scale%3D1.0%2C%20maximum-scale%3D1.0%2C%20user-scalable%3Dno%22%20/%3E%0A%20%20%20%20%3Cstyle%3E%23map_68e113192ba74c2c9184557ee10e6d93%20%7B%0A%20%20%20%20%20%20%20%20position%3A%20relative%3B%0A%20%20%20%20%20%20%20%20width%3A%20100.0%25%3B%0A%20%20%20%20%20%20%20%20height%3A%20100.0%25%3B%0A%20%20%20%20%20%20%20%20left%3A%200.0%25%3B%0A%20%20%20%20%20%20%20%20top%3A%200.0%25%3B%0A%20%20%20%20%20%20%20%20%7D%0A%20%20%20%20%3C/style%3E%0A%3C/head%3E%0A%3Cbody%3E%20%20%20%20%0A%20%20%20%20%0A%20%20%20%20%3Cdiv%20class%3D%22folium-map%22%20id%3D%22map_68e113192ba74c2c9184557ee10e6d93%22%20%3E%3C/div%3E%0A%3C/body%3E%0A%3Cscript%3E%20%20%20%20%0A%20%20%20%20%0A%20%20%20%20%0A%20%20%20%20%20%20%20%20var%20bounds%20%3D%20null%3B%0A%20%20%20%20%0A%0A%20%20%20%20var%20map_68e113192ba74c2c9184557ee10e6d93%20%3D%20L.map%28%0A%20%20%20%20%20%20%20%20%27map_68e113192ba74c2c9184557ee10e6d93%27%2C%20%7B%0A%20%20%20%20%20%20%20%20center%3A%20%5B-30.0996%2C%20149.2659%5D%2C%0A%20%20%20%20%20%20%20%20zoom%3A%2010%2C%0A%20%20%20%20%20%20%20%20maxBounds%3A%20bounds%2C%0A%20%20%20%20%20%20%20%20layers%3A%20%5B%5D%2C%0A%20%20%20%20%20%20%20%20worldCopyJump%3A%20false%2C%0A%20%20%20%20%20%20%20%20crs%3A%20L.CRS.EPSG3857%2C%0A%20%20%20%20%20%20%20%20zoomControl%3A%20true%2C%0A%20%20%20%20%20%20%20%20%7D%29%3B%0A%0A%0A%20%20%20%20%0A%20%20%20%20var%20tile_layer_68b34252e889447d8d20e8e07ee28764%20%3D%20L.tileLayer%28%0A%20%20%20%20%20%20%20%20%27https%3A//%7Bs%7D.tile.openstreetmap.org/%7Bz%7D/%7Bx%7D/%7By%7D.png%27%2C%0A%20%20%20%20%20%20%20%20%7B%0A%20%20%20%20%20%20%20%20%22attribution%22%3A%20null%2C%0A%20%20%20%20%20%20%20%20%22detectRetina%22%3A%20false%2C%0A%20%20%20%20%20%20%20%20%22maxNativeZoom%22%3A%2018%2C%0A%20%20%20%20%20%20%20%20%22maxZoom%22%3A%2018%2C%0A%20%20%20%20%20%20%20%20%22minZoom%22%3A%200%2C%0A%20%20%20%20%20%20%20%20%22noWrap%22%3A%20false%2C%0A%20%20%20%20%20%20%20%20%22opacity%22%3A%201%2C%0A%20%20%20%20%20%20%20%20%22subdomains%22%3A%20%22abc%22%2C%0A%20%20%20%20%20%20%20%20%22tms%22%3A%20false%0A%7D%29.addTo%28map_68e113192ba74c2c9184557ee10e6d93%29%3B%0A%20%20%20%20var%20tile_layer_94e9fd37ad554ec397428ce8e9e4253e%20%3D%20L.tileLayer%28%0A%20%20%20%20%20%20%20%20%27https%3A//server.arcgisonline.com/ArcGIS/rest/services/World_Imagery/MapServer/tile/%7Bz%7D/%7By%7D/%7Bx%7D%27%2C%0A%20%20%20%20%20%20%20%20%7B%0A%20%20%20%20%20%20%20%20%22attribution%22%3A%20%22Map%20Data%20%26copy%3B%20%3Ca%20href%3D%5C%22https%3A//earthengine.google.com/%5C%22%3EGoogle%20Earth%20Engine%3C/a%3E%22%2C%0A%20%20%20%20%20%20%20%20%22detectRetina%22%3A%20false%2C%0A%20%20%20%20%20%20%20%20%22maxNativeZoom%22%3A%2018%2C%0A%20%20%20%20%20%20%20%20%22maxZoom%22%3A%2018%2C%0A%20%20%20%20%20%20%20%20%22minZoom%22%3A%200%2C%0A%20%20%20%20%20%20%20%20%22noWrap%22%3A%20false%2C%0A%20%20%20%20%20%20%20%20%22opacity%22%3A%201%2C%0A%20%20%20%20%20%20%20%20%22subdomains%22%3A%20%22abc%22%2C%0A%20%20%20%20%20%20%20%20%22tms%22%3A%20false%0A%7D%29.addTo%28map_68e113192ba74c2c9184557ee10e6d93%29%3B%0A%20%20%20%20var%20tile_layer_0eddb7fcbfd443f08451134e859907ab%20%3D%20L.tileLayer%28%0A%20%20%20%20%20%20%20%20%27https%3A//earthengine.googleapis.com/v1alpha/projects/earthengine-legacy/maps/c7cce7e3e27e79e4c38ce92c84d1d4e2-c246f02cc5031d0cd04e0dfccaa07aba/tiles/%7Bz%7D/%7Bx%7D/%7By%7D%27%2C%0A%20%20%20%20%20%20%20%20%7B%0A%20%20%20%20%20%20%20%20%22attribution%22%3A%20%22Map%20Data%20%26copy%3B%20%3Ca%20href%3D%5C%22https%3A//earthengine.google.com/%5C%22%3EGoogle%20Earth%20Engine%3C/a%3E%22%2C%0A%20%20%20%20%20%20%20%20%22detectRetina%22%3A%20false%2C%0A%20%20%20%20%20%20%20%20%22maxNativeZoom%22%3A%2018%2C%0A%20%20%20%20%20%20%20%20%22maxZoom%22%3A%2018%2C%0A%20%20%20%20%20%20%20%20%22minZoom%22%3A%200%2C%0A%20%20%20%20%20%20%20%20%22noWrap%22%3A%20false%2C%0A%20%20%20%20%20%20%20%20%22opacity%22%3A%201%2C%0A%20%20%20%20%20%20%20%20%22subdomains%22%3A%20%22abc%22%2C%0A%20%20%20%20%20%20%20%20%22tms%22%3A%20false%0A%7D%29.addTo%28map_68e113192ba74c2c9184557ee10e6d93%29%3B%0A%20%20%20%20%0A%20%20%20%20%20%20%20%20%20%20%20%20var%20layer_control_1c679dfe050344a18d75b1855ecf7e56%20%3D%20%7B%0A%20%20%20%20%20%20%20%20%20%20%20%20%20%20%20%20base_layers%20%3A%20%7B%20%22openstreetmap%22%20%3A%20tile_layer_68b34252e889447d8d20e8e07ee28764%2C%20%7D%2C%0A%20%20%20%20%20%20%20%20%20%20%20%20%20%20%20%20overlays%20%3A%20%7B%20%22satellite%22%20%3A%20tile_layer_94e9fd37ad554ec397428ce8e9e4253e%2C%22geometry%22%20%3A%20tile_layer_0eddb7fcbfd443f08451134e859907ab%2C%20%7D%0A%20%20%20%20%20%20%20%20%20%20%20%20%20%20%20%20%7D%3B%0A%20%20%20%20%20%20%20%20%20%20%20%20L.control.layers%28%0A%20%20%20%20%20%20%20%20%20%20%20%20%20%20%20%20layer_control_1c679dfe050344a18d75b1855ecf7e56.base_layers%2C%0A%20%20%20%20%20%20%20%20%20%20%20%20%20%20%20%20layer_control_1c679dfe050344a18d75b1855ecf7e56.overlays%2C%0A%20%20%20%20%20%20%20%20%20%20%20%20%20%20%20%20%7Bposition%3A%20%27topright%27%2C%0A%20%20%20%20%20%20%20%20%20%20%20%20%20%20%20%20%20collapsed%3A%20true%2C%0A%20%20%20%20%20%20%20%20%20%20%20%20%20%20%20%20%20autoZIndex%3A%20true%0A%20%20%20%20%20%20%20%20%20%20%20%20%20%20%20%20%7D%29.addTo%28map_68e113192ba74c2c9184557ee10e6d93%29%3B%0A%20%20%20%20%20%20%20%20%20%20%20%20%0A%20%20%20%20%20%20%20%20%0A%3C/script%3E onload=\"this.contentDocument.open();this.contentDocument.write(    decodeURIComponent(this.getAttribute('data-html')));this.contentDocument.close();\" allowfullscreen webkitallowfullscreen mozallowfullscreen></iframe></div></div>"
            ],
            "text/plain": [
              "<folium.folium.Map at 0x7f52b71eb750>"
            ]
          },
          "metadata": {},
          "execution_count": 15
        }
      ]
    },
    {
      "cell_type": "markdown",
      "source": [
        "## Exporting predictor image"
      ],
      "metadata": {
        "id": "K_3UWcOzwQTm"
      }
    },
    {
      "cell_type": "code",
      "metadata": {
        "id": "jafM2pTiVyWb"
      },
      "source": [
        "date = ee.Date(img.get('system:time_start')).format('YYYY_MM_dd').getInfo()\n",
        "geo_exp = ee.Geometry.Polygon([[[149.13340337807065, -30.108940652709176],\n",
        "                                [149.13340337807065, -30.516764241304145],\n",
        "                                [149.72117193275815, -30.516764241304145],\n",
        "                                [149.72117193275815, -30.108940652709176]]], None, False)\n",
        "ee.batch.Export.image.toDrive(img.toFloat().clip(geo_exp),\n",
        "                              'moist_input_{}'.format(date),\n",
        "                              region=geo_exp,\n",
        "                              scale=90,\n",
        "                              maxPixels=1e13).start()\n"
      ],
      "execution_count": null,
      "outputs": []
    }
  ]
}